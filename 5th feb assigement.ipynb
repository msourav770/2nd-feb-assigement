{
 "cells": [
  {
   "cell_type": "code",
   "execution_count": null,
   "id": "90625a95-b953-4c87-b9b7-4233fbbf3d60",
   "metadata": {},
   "outputs": [],
   "source": [
    "\"\"\"Q1. Explain Class and Object with respect to Object-Oriented Programming. Give a suitable example.\"\"\"\n",
    "ans.\n",
    "class-Classes are user-defined data types that act as the blueprint for individual objects, attributes and methods.\n",
    "\n",
    "object-Objects are instances of a class created with specifically defined data.\n",
    "\n",
    "#as example-there are many people in a spot.for people has states like sex,skin colour ,age,height,weight .\n",
    "here people are class and sex,skin colour ,age,height,weight are object."
   ]
  },
  {
   "cell_type": "code",
   "execution_count": 4,
   "id": "646821b7-f664-47e6-8911-03d7a1974c4a",
   "metadata": {},
   "outputs": [],
   "source": [
    "class test :\n",
    "    def welcome_msg(self):\n",
    "        print(\"welcome to india\")"
   ]
  },
  {
   "cell_type": "code",
   "execution_count": 5,
   "id": "009800f9-7b1a-4d1a-a3ae-3c570476213f",
   "metadata": {},
   "outputs": [
    {
     "name": "stdout",
     "output_type": "stream",
     "text": [
      "welcome to india\n"
     ]
    }
   ],
   "source": [
    "gleen=test()\n",
    "gleen.welcome_msg()"
   ]
  },
  {
   "cell_type": "code",
   "execution_count": null,
   "id": "3e366827-1ac7-46ec-b8e7-270e521641bc",
   "metadata": {},
   "outputs": [],
   "source": [
    "\"\"\"Q2. Name the four pillars of OOPs.\"\"\"\n",
    "ans.\n",
    "The four pillars are Inheritance, Polymorphism, Encapsulation and Abstraction of OOPS.\n"
   ]
  },
  {
   "cell_type": "code",
   "execution_count": null,
   "id": "be005010-736f-45e8-a2e1-07796279cdcc",
   "metadata": {},
   "outputs": [],
   "source": [
    "\"\"\"Q3. Explain why the __init__() function is used. Give a suitable example.\"\"\"\n",
    "ans.\n",
    "The __init__ function is called every time an object is created from a class.\n",
    "The __init__ method lets the class initialize the object's attributes and serves no other purpose.\n",
    "It is only used within classes.03"
   ]
  },
  {
   "cell_type": "code",
   "execution_count": 6,
   "id": "98d6ce9c-b615-4ff1-b9c0-1a76c4d11ab1",
   "metadata": {},
   "outputs": [],
   "source": [
    "class people :\n",
    "    def __init__(self, sex, age, height):\n",
    "        self.sex=sex\n",
    "        self.age=age\n",
    "        self.height=height\n",
    "        \n",
    "    def return_people_details(self):\n",
    "        return self.sex, self.age, self.height "
   ]
  },
  {
   "cell_type": "code",
   "execution_count": 31,
   "id": "3ded7931-6899-49c7-9f3e-2d923f25a862",
   "metadata": {},
   "outputs": [
    {
     "data": {
      "text/plain": [
       "('male', 25, '5-9')"
      ]
     },
     "execution_count": 31,
     "metadata": {},
     "output_type": "execute_result"
    }
   ],
   "source": [
    "sourav=people(\"male\", 25  , \"5-9\")\n",
    "sourav.return_people_details()"
   ]
  },
  {
   "cell_type": "code",
   "execution_count": null,
   "id": "9a5bbd20-5b22-4baa-8b27-20763f463fa2",
   "metadata": {},
   "outputs": [],
   "source": [
    "\"\"\"Q4.Why self is used in OOPs?\"\"\"\n",
    "ans.\n",
    "The self variable is used to represent the instance of the class which is often used \n",
    "in object-oriented programming. It works as a reference to the object. \n",
    "Python uses the self parameter to refer to instance attributes and methods of the class"
   ]
  },
  {
   "cell_type": "code",
   "execution_count": null,
   "id": "4113ab94-6b2b-4319-b7b8-b94c4be3139b",
   "metadata": {},
   "outputs": [],
   "source": [
    "\"\"\"Q5. What is inheritance? Give an example for each type of inheritance.\"\"\"\n",
    "ans.\n",
    "Inheritance is a mechanism in which one class acquires the property of another class.\n",
    "For example, a child inherits the traits of his/her parents. With inheritance,\n",
    "we can reuse the fields and methods of the existing class. Hence, \n",
    "inheritance facilitates Reusability and is an important concept of OOPs.\n",
    "Parent class is the class being inherited from,also called base class.\n",
    "Child class is the class that inherits from another class, also called derived class."
   ]
  },
  {
   "cell_type": "code",
   "execution_count": 3,
   "id": "632f61b2-e6c1-441e-92dc-ae5239d27251",
   "metadata": {},
   "outputs": [],
   "source": [
    "#base class:- \n",
    "class Parent:\n",
    "\tdef func1(self):\n",
    "\t\tprint(\"This function is in parent class.\")\n",
    "#derived class:- \n",
    "class Child(Parent):\n",
    "\tdef func2(self):\n",
    "\t\tprint(\"This function is in child class.\")"
   ]
  },
  {
   "cell_type": "code",
   "execution_count": 2,
   "id": "ce3c5913-e2e6-4b52-a526-8aed171757eb",
   "metadata": {},
   "outputs": [
    {
     "name": "stdout",
     "output_type": "stream",
     "text": [
      "This function is in parent class.\n",
      "This function is in child class.\n"
     ]
    }
   ],
   "source": [
    "object = Child()\n",
    "object.func1()\n",
    "object.func2()"
   ]
  },
  {
   "cell_type": "code",
   "execution_count": null,
   "id": "ca5373e1-b155-438f-96e0-00be5ec84025",
   "metadata": {},
   "outputs": [],
   "source": []
  }
 ],
 "metadata": {
  "kernelspec": {
   "display_name": "Python 3 (ipykernel)",
   "language": "python",
   "name": "python3"
  },
  "language_info": {
   "codemirror_mode": {
    "name": "ipython",
    "version": 3
   },
   "file_extension": ".py",
   "mimetype": "text/x-python",
   "name": "python",
   "nbconvert_exporter": "python",
   "pygments_lexer": "ipython3",
   "version": "3.10.8"
  }
 },
 "nbformat": 4,
 "nbformat_minor": 5
}
