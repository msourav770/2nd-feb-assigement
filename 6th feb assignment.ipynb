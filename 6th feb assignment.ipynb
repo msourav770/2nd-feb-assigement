{
 "cells": [
  {
   "cell_type": "code",
   "execution_count": 39,
   "id": "5ad3eb36-1919-4067-a6b1-ab296a6eb002",
   "metadata": {},
   "outputs": [
    {
     "name": "stdout",
     "output_type": "stream",
     "text": [
      "[1, 2, 3, 4, 44, 55, 66, 34, 56, 78, 89, 34, 1, 1, 2, 2, 3, 3, 1, 34, 55, 67, 78, 89, 4, 45, 22, 61, 34, 56]\n",
      "24808271033922512873003047452672000\n"
     ]
    }
   ],
   "source": [
    "\"\"\"Q1. Create a function which will take a list as an argument and return the product of all the numbers\n",
    "after creating a flat list.\n",
    "Use the below-given list as an argument for your function.\n",
    "\n",
    "Note: you must extract numeric keys and values of the dictionary also.\"\"\"\n",
    "\n",
    "list1 = [1,2,3,4, [44,55,66, True], False, (34,56,78,89,34), {1,2,3,3,2,1}, {1:34, \"key2\": [55, 67, 78, 89], 4: (45,\n",
    "22, 61, 34)}, [56, 'data science'], 'Machine Learning']\n",
    "\n",
    "from functools import reduce\n",
    "\n",
    "def get_product(list_o):\n",
    "    new_list=[]\n",
    "    for data in list_o :\n",
    "        if type(data) == int:\n",
    "            new_list.append(data)\n",
    "        elif type(data) == list:\n",
    "            for data_list in data:\n",
    "                if type(data_list) == int:\n",
    "                    new_list.append(data_list)\n",
    "        elif type(data) == tuple:\n",
    "            for data_tuple in data:\n",
    "                if type(data_tuple) == int:\n",
    "                    new_list.append(data_tuple)\n",
    "        elif type(data) == dict:\n",
    "            for key,value in data.items():\n",
    "                if type(key) == int:\n",
    "                    new_list.append(key)\n",
    "                if type(value) == int:\n",
    "                     new_list.append(value)\n",
    "                elif type(value) == list:\n",
    "                    for data_list in value:\n",
    "                        if type(data_list) == int:\n",
    "                            new_list.append(data_list)\n",
    "                elif type(value) == tuple:\n",
    "                    for data_tuple in value:\n",
    "                        if type(data_tuple) == int:\n",
    "                            new_list.append(data_tuple)\n",
    "        elif type(data) == set:\n",
    "            for num in list(data):\n",
    "                new_list.append(num)\n",
    "                new_list.append(num)\n",
    "                \n",
    "    product=reduce(lambda x,y: x*y ,new_list)\n",
    "    print (new_list)\n",
    "    return product\n",
    "print(get_product(list1))"
   ]
  },
  {
   "cell_type": "code",
   "execution_count": 44,
   "id": "6327fda4-eb54-4dc3-bf48-315279588b68",
   "metadata": {},
   "outputs": [
    {
     "name": "stdin",
     "output_type": "stream",
     "text": [
      "Please enter your message ? I want to become a Data Scientist\n"
     ]
    },
    {
     "name": "stdout",
     "output_type": "stream",
     "text": [
      "t$nzro$oq$yuxqsu$z$vzoz$pxturotpo\n"
     ]
    }
   ],
   "source": [
    "\"\"\"Q2. Write a python program for encrypting a message sent to you by your friend. The logic of encryption\n",
    "should be such that, for a the output should be z. For b, the output should be y. For c, the output should\n",
    "be x respectively. Also, the whitespace should be replaced with a dollar sign. Keep the punctuation\n",
    "marks unchanged.\n",
    "Input Sentence: I want to become a Data Scientist.\n",
    "Encrypt the above input sentence using the program you just created.\n",
    "\n",
    "Note: Convert the given input sentence into lowercase before encrypting. The final output should be\n",
    "lowercase.\"\"\"\n",
    "\n",
    "user_input = input(\"Please enter your message ?\")\n",
    "dict_input = {\"a\": \"z\", \"b\": \"y\", \"c\": \"x\", \"d\": \"v\", \"e\": \"u\", \"i\": \"t\", \n",
    "              \"m\": \"s\", \"n\": \"r\", \"o\": \"q\", \"s\": \"p\", \"t\": \"o\", \"w\": \"n\"}\n",
    "\n",
    "rev_input = user_input.lower()\n",
    "encrypt_list = []\n",
    "for i in rev_input:\n",
    "    if i == \" \":\n",
    "        encrypt_list.append(\"$\")\n",
    "    elif i in dict_input:\n",
    "        encrypt_list.append(dict_input[i])\n",
    "encrypt_message= \"\".join(encrypt_list)\n",
    "print(encrypt_message)"
   ]
  },
  {
   "cell_type": "code",
   "execution_count": null,
   "id": "0d5eeca5-4902-4dff-a262-926b332cca18",
   "metadata": {},
   "outputs": [],
   "source": []
  }
 ],
 "metadata": {
  "kernelspec": {
   "display_name": "Python 3 (ipykernel)",
   "language": "python",
   "name": "python3"
  },
  "language_info": {
   "codemirror_mode": {
    "name": "ipython",
    "version": 3
   },
   "file_extension": ".py",
   "mimetype": "text/x-python",
   "name": "python",
   "nbconvert_exporter": "python",
   "pygments_lexer": "ipython3",
   "version": "3.10.8"
  }
 },
 "nbformat": 4,
 "nbformat_minor": 5
}
