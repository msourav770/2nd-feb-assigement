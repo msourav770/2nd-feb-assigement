{
 "cells": [
  {
   "cell_type": "code",
   "execution_count": null,
   "id": "5839b4e2-35b6-481e-ae45-dcd2a3bba50f",
   "metadata": {},
   "outputs": [],
   "source": [
    "Q1. Which keyword is used to create a function? Create a function to return a list of odd numbers in the\n",
    "range of 1 to 25\n",
    "ans.def is used to to creat a function"
   ]
  },
  {
   "cell_type": "code",
   "execution_count": 5,
   "id": "329ab98c-9306-4d4f-9d2f-8c9a3f71ee9c",
   "metadata": {},
   "outputs": [
    {
     "name": "stdout",
     "output_type": "stream",
     "text": [
      "[1, 3, 5, 7, 9, 11, 13, 15, 17, 19, 21, 23, 25]\n"
     ]
    }
   ],
   "source": [
    "def odd():\n",
    "    l=[]\n",
    "    for i in range(1,26):\n",
    "        if i%2!=0:\n",
    "            l.append(i)\n",
    "    return l\n",
    "print(odd())"
   ]
  },
  {
   "cell_type": "code",
   "execution_count": null,
   "id": "7e56f92d-3560-4f86-b10b-a6e568b969c3",
   "metadata": {},
   "outputs": [],
   "source": [
    "Q2. Why *args and **kwargs is used in some functions? Create a function each for *args and **kwargs\n",
    "to demonstrate their use.\n",
    "\n",
    "ans.*args is used to send a non-keyworded variable length argument list to the function.\n",
    "It allows to pass a variable number of arguments to the function. The arguments are passed as a tuple. \n",
    "\n",
    "**kwargs is used to pass keyworded variable length of arguments to a function. The keyworded arguments are passed as a dictionary.  "
   ]
  },
  {
   "cell_type": "code",
   "execution_count": 6,
   "id": "76649976-42e3-418c-ada3-7ee259feb270",
   "metadata": {},
   "outputs": [],
   "source": [
    "# example of *args\n",
    "def print_args(*args):\n",
    "    for arg in args:\n",
    "        print(arg)"
   ]
  },
  {
   "cell_type": "code",
   "execution_count": 7,
   "id": "36592e31-7809-48ff-8cd9-5346e6765822",
   "metadata": {},
   "outputs": [
    {
     "name": "stdout",
     "output_type": "stream",
     "text": [
      "1\n",
      "2\n",
      "3\n"
     ]
    }
   ],
   "source": [
    "print_args(1, 2, 3)"
   ]
  },
  {
   "cell_type": "code",
   "execution_count": 8,
   "id": "41b753d6-85bc-45ee-a3dd-0f248b8ff4db",
   "metadata": {},
   "outputs": [],
   "source": [
    "# example of **kwargs\n",
    "def print_kwargs(**kwargs):\n",
    "    for key, value in kwargs.items():\n",
    "        print(f\"{key} = {value}\")"
   ]
  },
  {
   "cell_type": "code",
   "execution_count": 9,
   "id": "bbe3026d-a940-49b9-af52-0e368cd9cd2b",
   "metadata": {},
   "outputs": [
    {
     "name": "stdout",
     "output_type": "stream",
     "text": [
      "first_name = sourav\n",
      "last_name = mondal\n"
     ]
    }
   ],
   "source": [
    "print_kwargs(first_name=\"sourav\", last_name=\"mondal\")"
   ]
  },
  {
   "cell_type": "code",
   "execution_count": null,
   "id": "8acb14f6-83d5-4965-bd75-bbb1e683ae90",
   "metadata": {},
   "outputs": [],
   "source": [
    "Q3. What is an iterator in python? Name the method used to initialise the iterator object and the method\n",
    "used for iteration. Use these methods to print the first five elements of the given list [2, 4, 6, 8, 10, 12, 14,\n",
    "16, 18, 20].\n",
    "ans.An iterator is an object that contains a countable number of values.\n",
    "*in python iterator ,which consist of method _iter_() and_next_"
   ]
  },
  {
   "cell_type": "code",
   "execution_count": 10,
   "id": "c9b0fa91-9fd9-4106-93b1-561850c35f4e",
   "metadata": {},
   "outputs": [
    {
     "name": "stdout",
     "output_type": "stream",
     "text": [
      "2\n",
      "4\n",
      "6\n",
      "8\n",
      "10\n"
     ]
    }
   ],
   "source": [
    "list=[2,4,6,8,10,12,14,16,18,20]\n",
    "number=iter(list)\n",
    "for i in range(5):\n",
    "    print(next(number))"
   ]
  },
  {
   "cell_type": "code",
   "execution_count": null,
   "id": "1230622e-1d7e-4101-a429-5947aab8a2b5",
   "metadata": {},
   "outputs": [],
   "source": [
    "Q4.What is a generator function in python? Why yield keyword is used? Give an example of a generator\n",
    "function.\n",
    "Python Generator functions allow you to declare a function that behaves likes an iterator,\n",
    "allowing programmers to make an iterator in a fast, easy, and clean way.\n",
    "*the Yield keyword in Python is similar to a return statement used for returning values or objects in Python.\n",
    " where, there is a slight difference."
   ]
  },
  {
   "cell_type": "code",
   "execution_count": 12,
   "id": "3c3174d8-aa93-452e-8e6d-45cb48cc8ca8",
   "metadata": {},
   "outputs": [],
   "source": [
    "# when we want fibonacci number at a range,we use this function as a example\n",
    "def fib(n):\n",
    "    a,b=0,1\n",
    "    for i in range (n):\n",
    "        yield a\n",
    "        a,b=b,a+b"
   ]
  },
  {
   "cell_type": "code",
   "execution_count": 14,
   "id": "5a58d9c8-c5c7-445e-8840-97f3eba1a936",
   "metadata": {},
   "outputs": [
    {
     "name": "stdout",
     "output_type": "stream",
     "text": [
      "0\n",
      "1\n",
      "1\n",
      "2\n",
      "3\n",
      "5\n",
      "8\n",
      "13\n",
      "21\n",
      "34\n"
     ]
    }
   ],
   "source": [
    "d=fib(10)\n",
    "for i in d:\n",
    "    print(i)"
   ]
  },
  {
   "cell_type": "code",
   "execution_count": null,
   "id": "a9bdc5e5-ff85-4252-b76e-5b6f4f5ea717",
   "metadata": {},
   "outputs": [],
   "source": [
    "Q5. Create a generator function for prime numbers less than 1000. Use the next() method to print the\n",
    "first 20 prime numbers."
   ]
  },
  {
   "cell_type": "code",
   "execution_count": 15,
   "id": "94ae766d-f2f8-4199-85f8-cbb73b0f31da",
   "metadata": {},
   "outputs": [],
   "source": [
    "def prime_number():\n",
    "    num=1\n",
    "    while num<1000:\n",
    "        if num==1:\n",
    "            num+=1\n",
    "        elif num==2:\n",
    "            yield num\n",
    "            num+=1\n",
    "        elif num==3:\n",
    "            yield num\n",
    "            num+=1\n",
    "        elif num==5:\n",
    "            yield num\n",
    "            num+=1\n",
    "        elif num % 2 == 0 or num % 3 == 0 or num % 5 == 0:\n",
    "             num+=1\n",
    "        else:\n",
    "            yield num\n",
    "            num+=1"
   ]
  },
  {
   "cell_type": "code",
   "execution_count": 16,
   "id": "93e1218e-464a-409d-b060-d92d96cb711f",
   "metadata": {},
   "outputs": [
    {
     "name": "stdout",
     "output_type": "stream",
     "text": [
      "2\n",
      "3\n",
      "5\n",
      "7\n",
      "11\n",
      "13\n",
      "17\n",
      "19\n",
      "23\n",
      "29\n",
      "31\n",
      "37\n",
      "41\n",
      "43\n",
      "47\n",
      "49\n",
      "53\n",
      "59\n",
      "61\n",
      "67\n"
     ]
    }
   ],
   "source": [
    "values=prime_number()\n",
    "for i in range(20):\n",
    "    print(next(values))"
   ]
  },
  {
   "cell_type": "code",
   "execution_count": null,
   "id": "24bde918-c3fe-4570-8b53-6e4637fb0fc9",
   "metadata": {},
   "outputs": [],
   "source": [
    "Q6. Write a python program to print the first 10 Fibonacci numbers using a while loop."
   ]
  },
  {
   "cell_type": "code",
   "execution_count": 17,
   "id": "4bd56886-6cfe-401d-9cb5-f16e9f19dd62",
   "metadata": {},
   "outputs": [],
   "source": [
    "def fib():\n",
    "    a,b=0,1\n",
    "    while True:\n",
    "        yield a\n",
    "        a,b=b,a+b\n",
    "        "
   ]
  },
  {
   "cell_type": "code",
   "execution_count": 18,
   "id": "0b197695-cc21-4e6b-89c3-f4c79b5fe9ff",
   "metadata": {},
   "outputs": [
    {
     "name": "stdout",
     "output_type": "stream",
     "text": [
      "0\n",
      "1\n",
      "1\n",
      "2\n",
      "3\n",
      "5\n",
      "8\n",
      "13\n",
      "21\n",
      "34\n"
     ]
    }
   ],
   "source": [
    "c=fib()\n",
    "for i in range (10):\n",
    "    print (next(c))"
   ]
  },
  {
   "cell_type": "code",
   "execution_count": null,
   "id": "3adba885-dc82-4318-9c81-3dac5b870dd3",
   "metadata": {},
   "outputs": [],
   "source": [
    "Q7. Write a List Comprehension to iterate through the given string: ‘pwskills’.\n",
    "Expected output: ['p', 'w', 's', 'k', 'i', 'l', 'l', 's']"
   ]
  },
  {
   "cell_type": "code",
   "execution_count": 20,
   "id": "db03fe57-8d0a-47c9-8653-58c2d9f2b959",
   "metadata": {},
   "outputs": [
    {
     "name": "stdout",
     "output_type": "stream",
     "text": [
      "['p', 'w', 's', 'k', 'i', 'l', 'l', 's']\n"
     ]
    }
   ],
   "source": [
    "l=[]\n",
    "for word in 'pwskills':\n",
    "    l.append(word)\n",
    "print(l)"
   ]
  },
  {
   "cell_type": "code",
   "execution_count": null,
   "id": "947c3b73-3cea-4446-b8cb-9407c796f756",
   "metadata": {},
   "outputs": [],
   "source": [
    "Q8. Write a python program to check whether a given number is Palindrome or not using a while loop."
   ]
  },
  {
   "cell_type": "code",
   "execution_count": 22,
   "id": "e9cf1f66-04e5-4735-9675-f6e2bc7e3b07",
   "metadata": {},
   "outputs": [
    {
     "name": "stdin",
     "output_type": "stream",
     "text": [
      "enter number 6578987458547898756\n"
     ]
    },
    {
     "name": "stdout",
     "output_type": "stream",
     "text": [
      "yes,number is palindrome\n"
     ]
    }
   ],
   "source": [
    "number=str(input(\"enter number\"))\n",
    "if number==number[::-1]:\n",
    "    print(f\"yes,number is palindrome\")\n",
    "else:\n",
    "    print(f\"no,number is not palindrome\")"
   ]
  },
  {
   "cell_type": "code",
   "execution_count": null,
   "id": "3b7064a9-108c-4558-b5d4-2c13e08fab5a",
   "metadata": {},
   "outputs": [],
   "source": [
    "Q9. Write a code to print odd numbers from 1 to 100 using list comprehension."
   ]
  },
  {
   "cell_type": "code",
   "execution_count": 24,
   "id": "e10d6001-6815-43a3-9c65-1c516ad38d4d",
   "metadata": {},
   "outputs": [
    {
     "name": "stdout",
     "output_type": "stream",
     "text": [
      "[1, 3, 5, 7, 9, 11, 13, 15, 17, 19, 21, 23, 25, 27, 29, 31, 33, 35, 37, 39, 41, 43, 45, 47, 49, 51, 53, 55, 57, 59, 61, 63, 65, 67, 69, 71, 73, 75, 77, 79, 81, 83, 85, 87, 89, 91, 93, 95, 97, 99]\n"
     ]
    }
   ],
   "source": [
    "odd_num = [num for num in [num for num in range(1,101)] if num%2 !=0]\n",
    "print(odd_num)"
   ]
  },
  {
   "cell_type": "code",
   "execution_count": null,
   "id": "a4eb2ba5-121c-4761-a4bb-d2d87248a0d3",
   "metadata": {},
   "outputs": [],
   "source": []
  }
 ],
 "metadata": {
  "kernelspec": {
   "display_name": "Python 3 (ipykernel)",
   "language": "python",
   "name": "python3"
  },
  "language_info": {
   "codemirror_mode": {
    "name": "ipython",
    "version": 3
   },
   "file_extension": ".py",
   "mimetype": "text/x-python",
   "name": "python",
   "nbconvert_exporter": "python",
   "pygments_lexer": "ipython3",
   "version": "3.10.8"
  }
 },
 "nbformat": 4,
 "nbformat_minor": 5
}
