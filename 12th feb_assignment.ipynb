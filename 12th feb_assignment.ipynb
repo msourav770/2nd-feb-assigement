{
 "cells": [
  {
   "cell_type": "markdown",
   "id": "133429bd-f40a-473a-87ee-4306f416cca0",
   "metadata": {},
   "source": [
    "Q1. What is an Exception in python? Write the different,between Exeptions and syntax errors?\n",
    "ans:-In Python, an exception is an event that occurs during the execution of a program that disrupts the normal flow of the program's instructions. When an exception occurs, the program stops executing and Python raises an error message, providing information about what went wrong. Exceptions can occur for a variety of reasons, such as invalid input, file not found, network errors, and so on.\n",
    "\n",
    "Syntax errors, on the other hand, are errors that occur when the Python interpreter cannot parse the code because of incorrect syntax. These errors usually occur before the program is executed and prevent the program from running at all. Examples of syntax errors include misspelled keywords, missing colons, incorrect indentation, and other similar errors.\n",
    "\n",
    "The key differences between exceptions and syntax errors are as follows:\n",
    "\n",
    "1.Timing of occurrence: Syntax errors occur before the program starts running, while exceptions occur during program execution.\n",
    "\n",
    "2.Cause: Syntax errors are caused by incorrect syntax, whereas exceptions are caused by unexpected situations that occur during program execution.\n",
    "\n",
    "3.Handling: Syntax errors must be fixed by correcting the code, while exceptions can be handled by using try-except blocks, which allow you to catch the exception and handle it in a way that allows the program to continue running.\n",
    "\n",
    "4.Error message: Syntax errors usually provide a simple error message indicating the line number and type of error, while exceptions can provide more detailed information about the cause of the error, such as a traceback and a description of the error type.\n",
    "\n",
    "Question 2.What happens when the exception is not handled? Explain with example.\n",
    "Ans:- When an exception is not handled in Python, the program will terminate and display an error message that includes a traceback showing the chain of function calls that led to the exception.\n",
    "\n",
    "Here's an example to illustrate what happens when an exception is not handled:\n"
   ]
  },
  {
   "cell_type": "code",
   "execution_count": 1,
   "id": "7ff83269-d3b3-4522-bdd0-b6acf0f808cb",
   "metadata": {},
   "outputs": [],
   "source": [
    "def divide(x,y):\n",
    "    result=x/y\n",
    "    return result"
   ]
  },
  {
   "cell_type": "code",
   "execution_count": 4,
   "id": "b07211a9-c28f-45f7-ade8-fe0307106908",
   "metadata": {},
   "outputs": [
    {
     "name": "stdout",
     "output_type": "stream",
     "text": [
      "can't divide by zero\n"
     ]
    }
   ],
   "source": [
    "try:\n",
    "    result = divide(8,0)\n",
    "except ZeroDivisionError:\n",
    "    print(\"can't divide by zero\")\n",
    "else:\n",
    "    print(\"resule is:\",result)"
   ]
  },
  {
   "cell_type": "code",
   "execution_count": 5,
   "id": "8b318ab1-5385-417c-b602-18f43c4cb636",
   "metadata": {},
   "outputs": [
    {
     "ename": "ZeroDivisionError",
     "evalue": "division by zero",
     "output_type": "error",
     "traceback": [
      "\u001b[0;31m---------------------------------------------------------------------------\u001b[0m",
      "\u001b[0;31mZeroDivisionError\u001b[0m                         Traceback (most recent call last)",
      "Cell \u001b[0;32mIn[5], line 1\u001b[0m\n\u001b[0;32m----> 1\u001b[0m result \u001b[38;5;241m=\u001b[39m \u001b[43mdivide\u001b[49m\u001b[43m(\u001b[49m\u001b[38;5;241;43m5\u001b[39;49m\u001b[43m,\u001b[49m\u001b[43m \u001b[49m\u001b[38;5;241;43m0\u001b[39;49m\u001b[43m)\u001b[49m\n\u001b[1;32m      2\u001b[0m \u001b[38;5;28mprint\u001b[39m(\u001b[38;5;124m\"\u001b[39m\u001b[38;5;124mResult is:\u001b[39m\u001b[38;5;124m\"\u001b[39m, result)\n",
      "Cell \u001b[0;32mIn[1], line 2\u001b[0m, in \u001b[0;36mdivide\u001b[0;34m(x, y)\u001b[0m\n\u001b[1;32m      1\u001b[0m \u001b[38;5;28;01mdef\u001b[39;00m \u001b[38;5;21mdivide\u001b[39m(x,y):\n\u001b[0;32m----> 2\u001b[0m     result\u001b[38;5;241m=\u001b[39m\u001b[43mx\u001b[49m\u001b[38;5;241;43m/\u001b[39;49m\u001b[43my\u001b[49m\n\u001b[1;32m      3\u001b[0m     \u001b[38;5;28;01mreturn\u001b[39;00m result\n",
      "\u001b[0;31mZeroDivisionError\u001b[0m: division by zero"
     ]
    }
   ],
   "source": [
    "result = divide(5, 0)\n",
    "print(\"Result is:\", result)"
   ]
  },
  {
   "cell_type": "markdown",
   "id": "2e0de833-1f62-4797-ac1c-f84f18d52ecf",
   "metadata": {},
   "source": [
    "Question 3. Which Python statements are used to catch and handle exceptions? Explain with example.\n",
    "Ans:-In Python, the try and except statements are used to catch and handle exceptions. The try statement is used to enclose the code that may raise an exception, while the except statement is used to define the block of code that will handle the exception if it is raised.\n",
    "\n",
    "Here's an example of using try and except statements to handle a ValueError exception: In this code, we are trying to divide two numbers entered by the user. If the user enters invalid input, such as a string instead of a number, the ValueError exception will be raised. However, we have enclosed the code that may raise the exception within the try block, and we have defined the block of code that will handle the exception within the except block. If a ValueError exception is raised, the program will print \"Please enter valid numbers.\" to the console."
   ]
  },
  {
   "cell_type": "code",
   "execution_count": 2,
   "id": "109d2b88-f5b9-4638-bc36-c078f84bbde4",
   "metadata": {},
   "outputs": [
    {
     "name": "stdin",
     "output_type": "stream",
     "text": [
      "Enter the first number:  8\n",
      "Enter the second number:  0\n"
     ]
    },
    {
     "name": "stdout",
     "output_type": "stream",
     "text": [
      "Cannot divide by zero.\n"
     ]
    }
   ],
   "source": [
    "try:\n",
    "    num1 = int(input(\"Enter the first number: \"))\n",
    "    num2 = int(input(\"Enter the second number: \"))\n",
    "    result = num1 / num2\n",
    "    print(f\"The result is: {result}\")\n",
    "except ValueError:\n",
    "    print(\"Please enter valid numbers.\")\n",
    "except ZeroDivisionError:\n",
    "    print(\"Cannot divide by zero.\")"
   ]
  },
  {
   "cell_type": "markdown",
   "id": "5bb82c14-2d49-4aa7-800c-2697f1b1bb05",
   "metadata": {},
   "source": [
    "Question 4 :Explain with an example : a. try and else b. finally c. raise\n",
    "Ans:-\n",
    "\n",
    "a. try and else: In Python, the else block can be used along with the try block to specify a code block that should be executed when no exception occurs in the try block. Here's an example: In this code, we are trying to divide two numbers entered by the user. If the user enters invalid input, such as a string instead of a number, a ValueError exception will be raised. If the user enters zero as the second number, a ZeroDivisionError exception will be raised. If neither exception occurs and the division operation is successful, the else block will execute and print the result.\n",
    "\n",
    "b. finally: In Python, the finally block can be used to specify a block of code that should be executed whether or not an exception occurs in the try block. Here's an example: In this code, we are trying to open a file named \"myfile.txt\" for reading. If an IOErro exception occurs while trying to open the file, the program will print an error message. Regardless of whether or not an exception occurs, the finally block will execute and close the file.\n",
    "\n",
    "c. raise: In Python, the raise statement can be used to raise an exception. Here's an example: In this code, we are defining a function named divide that performs division and raises a ZeroDivisionError exception if the second argument is zero. We are then calling the divide function with arguments 10 and 0 inside a try block. Since the second argument is zero, a ZeroDivisionError exception will be raised and caught in the except block, where we print the error message."
   ]
  },
  {
   "cell_type": "code",
   "execution_count": 9,
   "id": "55f10ae5-78b5-4f4d-9db4-ab9982cc7a92",
   "metadata": {},
   "outputs": [
    {
     "name": "stdin",
     "output_type": "stream",
     "text": [
      "Enter the first number:  8\n",
      "Enter the second number:  0\n"
     ]
    },
    {
     "name": "stdout",
     "output_type": "stream",
     "text": [
      "Cannot divide by zero.\n"
     ]
    }
   ],
   "source": [
    "\"\"\"example of try and else\"\"\"\n",
    "try:\n",
    "    num1 = int(input(\"Enter the first number: \"))\n",
    "    num2 = int(input(\"Enter the second number: \"))\n",
    "    result = num1 / num2\n",
    "except ValueError:\n",
    "    print(\"Please enter valid numbers.\")\n",
    "except ZeroDivisionError:\n",
    "    print(\"Cannot divide by zero.\")\n",
    "else:\n",
    "    print(f\"The result is: {result}\")"
   ]
  },
  {
   "cell_type": "code",
   "execution_count": 13,
   "id": "b6c58165-2a6a-460d-890c-8ef63b7a29db",
   "metadata": {},
   "outputs": [
    {
     "name": "stdout",
     "output_type": "stream",
     "text": [
      "Error: could not open file\n"
     ]
    }
   ],
   "source": [
    "\"\"\"example for finally\"\"\"\n",
    "try:\n",
    "    f= open(\"myfile.txt\", \"r\") \n",
    "except IOError:\n",
    "    print(\"Error: could not open file\")\n",
    "finally:\n",
    "    f.close()\n"
   ]
  },
  {
   "cell_type": "code",
   "execution_count": 14,
   "id": "62784482-b61b-4534-87ac-60f8fda0035e",
   "metadata": {},
   "outputs": [
    {
     "name": "stdout",
     "output_type": "stream",
     "text": [
      "Cannot divide by zero\n"
     ]
    }
   ],
   "source": [
    "\"\"\"Example for raise\"\"\"\n",
    "def divide(num1, num2):\n",
    "    if num2 == 0:\n",
    "        raise ZeroDivisionError(\"Cannot divide by zero\")\n",
    "    return num1 / num2\n",
    "\n",
    "try:\n",
    "    result = divide(10, 0)\n",
    "except ZeroDivisionError as e:\n",
    "    print(e)"
   ]
  },
  {
   "cell_type": "markdown",
   "id": "05ab403b-b67a-49af-a6bd-2692c6302414",
   "metadata": {},
   "source": [
    "Question 5 : What are custom exception in python ? Why do we need custom exception in python.? Explain with an example.\n",
    "Ans:-In Python, custom exceptions are user-defined exceptions that are created by the programmer to represent specific errors that may occur in a program. Custom exceptions allow the programmer to define their own error conditions and provide custom error messages, which can make it easier to debug and maintain the code.\n",
    "\n",
    "We need custom exceptions in Python because built-in exceptions may not always be specific enough to describe the type of error that occurred in our code. For example, if we are building an application that reads and writes files, and encounters an error while reading a file, the built-in IOError exception may not provide enough information to determine the cause of the error. In such cases, we can define our own custom exception, such as FileReadError, to represent this specific error condition. ere's an example of defining and using a custom exception in Python:"
   ]
  },
  {
   "cell_type": "code",
   "execution_count": 11,
   "id": "d9ae4564-32e2-4a22-9135-ee912b548bb4",
   "metadata": {},
   "outputs": [],
   "source": [
    "class FileReadError(Exception):\n",
    "    def __init__(self, filename):\n",
    "        self.filename = filename\n",
    "    \n",
    "    def __str__(self):\n",
    "        return f\"Error reading file {self.filename}\""
   ]
  },
  {
   "cell_type": "code",
   "execution_count": 12,
   "id": "25d387ee-b177-446f-a4b0-b55b3b994cb7",
   "metadata": {},
   "outputs": [],
   "source": [
    "def read_file(filename):\n",
    "    try:\n",
    "        with open(filename, 'r') as f:\n",
    "            pass\n",
    "    except IOError:\n",
    "        raise FileReadError(filename)"
   ]
  },
  {
   "cell_type": "code",
   "execution_count": 13,
   "id": "0ca9c4b1-11e9-461f-aed5-c15badfeea25",
   "metadata": {},
   "outputs": [
    {
     "name": "stdout",
     "output_type": "stream",
     "text": [
      "Error reading file myfile.txt\n"
     ]
    }
   ],
   "source": [
    "try:\n",
    "    read_file(\"myfile.txt\")\n",
    "except FileReadError as e:\n",
    "    print(e)"
   ]
  },
  {
   "cell_type": "markdown",
   "id": "71a74b64-ecb8-480a-9f3b-ad151fc1693a",
   "metadata": {},
   "source": [
    "Question 6 : Create a custom exception class. Use that class to handle and exception. Answer :In this code, we have defined a custom exception class named NegativeNumberError that inherits from the base Exception class. The NegativeNumberError exception is raised when the input to the calculate_squarefunction is a negative number.\n",
    "\n",
    "We are then defining a function named calculate_square that calculates the square of a number, and raises a NegativeNumberError exception if the input is negative.\n",
    "\n",
    "In the try block, we are calling the calculate_square function with a negative number (-5). Since the input is negative, a NegativeNumberError exception is raised. We are catching the exception in the except block and printing the error message."
   ]
  },
  {
   "cell_type": "code",
   "execution_count": 25,
   "id": "60a5d3ee-0551-47fd-a3bc-a82f782bc7e2",
   "metadata": {},
   "outputs": [
    {
     "name": "stdout",
     "output_type": "stream",
     "text": [
      "Error: Input must be a positive number\n"
     ]
    }
   ],
   "source": [
    "class NegativeNumberError(Exception):\n",
    "    \"\"\"Custom exception for negative numbers\"\"\"\n",
    "    pass\n",
    "\n",
    "def calculate_square(num):\n",
    "    if num < 0:\n",
    "        raise NegativeNumberError(\"Input must be a positive number\")\n",
    "    return num**2\n",
    "\n",
    "try:\n",
    "    result = calculate_square(-5)\n",
    "    print(result)\n",
    "except NegativeNumberError as e:\n",
    "    print(f\"Error: {e}\")"
   ]
  },
  {
   "cell_type": "code",
   "execution_count": null,
   "id": "5c166ae8-baa1-4f29-bfa8-cd23111adf3a",
   "metadata": {},
   "outputs": [],
   "source": []
  }
 ],
 "metadata": {
  "kernelspec": {
   "display_name": "Python 3 (ipykernel)",
   "language": "python",
   "name": "python3"
  },
  "language_info": {
   "codemirror_mode": {
    "name": "ipython",
    "version": 3
   },
   "file_extension": ".py",
   "mimetype": "text/x-python",
   "name": "python",
   "nbconvert_exporter": "python",
   "pygments_lexer": "ipython3",
   "version": "3.10.8"
  }
 },
 "nbformat": 4,
 "nbformat_minor": 5
}
