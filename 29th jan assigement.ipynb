{
 "cells": [
  {
   "cell_type": "code",
   "execution_count": null,
   "id": "b34b1152-3a95-4413-9958-246144f3050e",
   "metadata": {},
   "outputs": [],
   "source": [
    "Q1.who developed python programing language?\n",
    "Answer:-Guido van Rossum\n",
    "\n",
    "Q2.which type of programing does python support?\n",
    "Answer:-Python is a multi-paradigm programming language. \n",
    "         Object-oriented programming and structured programming are fully supported, \n",
    "         and many of their features support functional programming and aspect-oriented\n",
    "         programming (including metaprogramming and metaobjects)\n",
    "            \n",
    "Q3.Is python case sensitive when dealing with identifiers.\n",
    "Answer:-Yes, Python is a case-sensitive language, i.e., it treats uppercase and lowercase characters differently.\n",
    "        This applies to identifiers too.\n",
    "        You must avoid using the same name with different cases while naming identifiers. \n",
    "        It is always good to use names that are more easily understood. \n",
    "        If you want to store counts of 2 values, you would rather name your variables count1 and count2 \n",
    "        instead of naming them C and c. \n",
    "        Although the latter would give you separate variables, it can cause a lack of understanding in \n",
    "        the longer run.\n",
    "        \n",
    "Q4.what is the correct extension of the python file?\n",
    "Answer:- .py, .pyi\n",
    "\n",
    "Q5.is python code compiled or interpreted?\n",
    "Answer:-python compiled or interpreted both type of language\n",
    "\t\tThe compilation part is hidden from the programmer thus\n",
    "        The compilation part is done first when we execute our code and this will generate byte code\n",
    "        and internally this byte code gets converted by the python virtual\n",
    "        machine(p.v.m) according to the underlying platform(machine+operating system).\n",
    "        \n",
    "Q6.name a few blocks of code used to define in python language \n",
    "Answer:-Indentation is used to define a block of code in python. Braces {} are used to define \n",
    "        a block of code in most programming languages, like C, C++, and Java. \n",
    "        But this indentation makes python unique among all programming languages.\n",
    "        This indentation highlights the block of code. In Python, \n",
    "        indentation is done with whitespace. All statements with the same right-hand distance\n",
    "        belong to the same code block. If a block needs to be more nested, it is indented to the right."
   ]
  },
  {
   "cell_type": "code",
   "execution_count": 7,
   "id": "b9ea0e92-1b5e-4096-8c33-4dece30d85aa",
   "metadata": {},
   "outputs": [
    {
     "name": "stdout",
     "output_type": "stream",
     "text": [
      "Correct Name!!\n"
     ]
    }
   ],
   "source": [
    "#example:\n",
    "name = 'Sourav'\n",
    "if name == 'Sourav':\n",
    "    print('Correct Name!!')\n",
    "else:\n",
    "    print('InCorrect Name:(')"
   ]
  },
  {
   "cell_type": "code",
   "execution_count": null,
   "id": "1a54ca08-34d8-488d-bb0a-521efef89933",
   "metadata": {},
   "outputs": [],
   "source": [
    "Q7.states a character used to give single-line comment in python?\n",
    "Answer:- #\n",
    "\n",
    "Q8.mention functions which can help us to find the version of python that we are currently working on.\n",
    "Answer:-sys.version\n",
    "\n",
    "Q9.python supports the creation of anonymous function at runtime using a construct called ___\n",
    "Answer:-lambda\n",
    "\n",
    "Q10.what does pip stand for python?\n",
    "Answer:-fulll form of pip is preferred installation program its is package management system to install and\n",
    "        manage software packages written in Python and found in Python Package Index (PyPI).\n",
    "        Basically it is used to install additional libraries and packages that are not part of the standard Python library.\n",
    "\n",
    "Q11.mention a few build in function in python\n",
    "Answer:-1. print( ) function.\n",
    "        2. type( ) function.\n",
    "        3. input( ) function.\n",
    "        4. abs( ) function.\n",
    "        5. pow( ) function  \n",
    "        \n",
    "Q12.what is the maximum possible lenght of an identifier in python\n",
    "Answer:-79 characters\n",
    "\n",
    "Q13.what are the benifit of using python\n",
    "Answer:-1.Easy to Read, Learn and Write\n",
    "        2.Dynamically Typed\n",
    "        3.Vast Libraries Support\n",
    "        it is also used in data science webdevlopment and in many more technologies.\n",
    "        \n",
    "Q14.how is memory manage in python\n",
    "Answer:-Memory management in Python involves a private heap containing all Python objects and data structures.\n",
    "        The management of this private heap is ensured internally by the Python memory manager.\n",
    "        The Python memory manager has different components which deal with various dynamic storage management\n",
    "        aspects, like sharing, segmentation, preallocation or caching.\n",
    "        \n",
    "Q15.how to install python on windows and set path variable\n",
    "Answer:-how to install:\n",
    "        1. Open a browser to the Python website and download the Windows installer.\n",
    "        2. Double click on the downloaded file and install Python for all users, and ensure \n",
    "           that Python is added to your path. Click on Install now to begin.\n",
    "           Adding Python to the path will enable us to use the Python interpreter from any part of the filesystem.\n",
    "        3. After the installation is complete, click Disable path length limit and then Close.\n",
    "           Disabling the path length limit means we can use more than 260 characters in a file path.\n",
    "        4. Click Close to end the installation.\n",
    "    \n",
    "    \n",
    "       set path:\n",
    "       1.Right-clicking This PC and going to Properties.\n",
    "       2.Clicking on the Advanced system settings in the menu on the left.\n",
    "       3.Clicking on the Environment Variables button o​n the bottom right.\n",
    "       4.In the System variables section, selecting the Path variable and clicking on Edit. \n",
    "       The next screen will show all the directories that are currently a part of the PATH variable.\n",
    "       5.Clicking on New and entering Python’s install directory\n",
    "\n",
    "Q16.is indentation required in python\n",
    "Answer:-yes otherwise its give an error       \n"
   ]
  },
  {
   "cell_type": "code",
   "execution_count": null,
   "id": "cb1c299f-e57a-4a98-a2d2-c11111509b38",
   "metadata": {},
   "outputs": [],
   "source": []
  }
 ],
 "metadata": {
  "kernelspec": {
   "display_name": "Python 3 (ipykernel)",
   "language": "python",
   "name": "python3"
  },
  "language_info": {
   "codemirror_mode": {
    "name": "ipython",
    "version": 3
   },
   "file_extension": ".py",
   "mimetype": "text/x-python",
   "name": "python",
   "nbconvert_exporter": "python",
   "pygments_lexer": "ipython3",
   "version": "3.10.8"
  }
 },
 "nbformat": 4,
 "nbformat_minor": 5
}
