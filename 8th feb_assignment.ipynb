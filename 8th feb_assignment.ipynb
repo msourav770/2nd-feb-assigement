{
 "cells": [
  {
   "cell_type": "code",
   "execution_count": null,
   "id": "9814857f-fd37-42b8-833e-8a337d8ebe0d",
   "metadata": {},
   "outputs": [],
   "source": [
    "\"\"\"Q1. What is Abstraction in OOps? Explain with an example.\"\"\"\n",
    "ans:-Abstraction is the process of hiding the internal details of an application from the outer world.\n",
    "     Abstraction is used to describe things in simple terms.\n",
    "    It's used to create a boundary between the application and the client programs."
   ]
  },
  {
   "cell_type": "code",
   "execution_count": 2,
   "id": "d5c01a7f-6077-4be2-b949-e1a66d39a42a",
   "metadata": {},
   "outputs": [],
   "source": [
    "#as example\n",
    "import abc\n",
    "class pwskills:\n",
    "    @abc.abstractmethod\n",
    "    def student_details(self):\n",
    "        pass\n",
    "    @abc.abstractmethod\n",
    "    def student_assignment(self):\n",
    "        pass\n",
    "    @abc.abstractmethod\n",
    "    def student_marks(self):\n",
    "        pass\n",
    "        "
   ]
  },
  {
   "cell_type": "code",
   "execution_count": 3,
   "id": "20729ae8-6731-4952-a0b8-421f659ece4a",
   "metadata": {},
   "outputs": [],
   "source": [
    "class student_details(pwskills):\n",
    "    def student_details(self):\n",
    "        return\"this is meth for taking student details\"\n",
    "    def student_assignment(self):\n",
    "        return\"this is meth for assing details\"\n",
    "class data_sciense_master (pwskills):\n",
    "    def student_details(self):\n",
    "        return\"this will return a student for data sciense master\"\n",
    "    def student_assignment(self):\n",
    "        return\"this will give you a student assignment for data sciense master\""
   ]
  },
  {
   "cell_type": "code",
   "execution_count": 4,
   "id": "205cd68d-6b1e-4dd9-8ce5-f537374b3fba",
   "metadata": {},
   "outputs": [
    {
     "data": {
      "text/plain": [
       "'this is meth for taking student details'"
      ]
     },
     "execution_count": 4,
     "metadata": {},
     "output_type": "execute_result"
    }
   ],
   "source": [
    "sourav = student_details()\n",
    "sourav.student_details()"
   ]
  },
  {
   "cell_type": "code",
   "execution_count": 5,
   "id": "7f2cb6cd-6614-4e55-9463-a30642a5d116",
   "metadata": {},
   "outputs": [
    {
     "data": {
      "text/plain": [
       "'this will give you a student assignment for data sciense master'"
      ]
     },
     "execution_count": 5,
     "metadata": {},
     "output_type": "execute_result"
    }
   ],
   "source": [
    "sourav = data_sciense_master()\n",
    "sourav.student_assignment()"
   ]
  },
  {
   "cell_type": "code",
   "execution_count": 11,
   "id": "1e706193-b7a5-489e-921b-df310681c1ec",
   "metadata": {},
   "outputs": [
    {
     "data": {
      "text/plain": [
       "'this will return a student for data sciense master'"
      ]
     },
     "execution_count": 11,
     "metadata": {},
     "output_type": "execute_result"
    }
   ],
   "source": [
    "sourav = data_sciense_master()\n",
    "sourav.student_details()"
   ]
  },
  {
   "cell_type": "code",
   "execution_count": null,
   "id": "bc0a2117-251f-47b0-940b-3f93f47e0802",
   "metadata": {},
   "outputs": [],
   "source": [
    "\"\"\"Q2. Differentiate between Abstraction and Encapsulation. Explain with an example.\"\"\"\n",
    "ans:-Abstraction is a way of representing some specific data.\n",
    "    Encapsulation is a way of hiding the complexity of something and\n",
    "    exposing only the parts you wish to expose. For example,\n",
    "    if you have a class that has one or more private fields that you use to store the data, then you are in encapsulation.\n",
    "    in encapsulation __set__ ans __get__ are very useful."
   ]
  },
  {
   "cell_type": "code",
   "execution_count": 12,
   "id": "b374202f-f066-4af5-bcf7-6426615ecaca",
   "metadata": {},
   "outputs": [],
   "source": [
    "class book:\n",
    "    def __init__(self,page, language, price, Type):\n",
    "        self.__page=page\n",
    "        self.__language=language\n",
    "        self.__price=price\n",
    "        self.__Type=Type\n",
    "        \n",
    "    def set_price(self,price):\n",
    "        self.__price=100 if price<100 else price\n",
    "    def get_price(self):\n",
    "        return self.__price"
   ]
  },
  {
   "cell_type": "code",
   "execution_count": 20,
   "id": "a72150fa-6941-4714-aba0-24d5a9870799",
   "metadata": {},
   "outputs": [],
   "source": [
    "B=book(1000 , \"english\" , 120, \"story\")"
   ]
  },
  {
   "cell_type": "code",
   "execution_count": 23,
   "id": "06fbc69e-8e37-48aa-a352-0eb5e6e6a1a7",
   "metadata": {},
   "outputs": [
    {
     "data": {
      "text/plain": [
       "120"
      ]
     },
     "execution_count": 23,
     "metadata": {},
     "output_type": "execute_result"
    }
   ],
   "source": [
    "B._book__price"
   ]
  },
  {
   "cell_type": "code",
   "execution_count": 24,
   "id": "300386c3-7bc9-47a5-b9c0-201c8c366585",
   "metadata": {},
   "outputs": [],
   "source": [
    "B.set_price(350)"
   ]
  },
  {
   "cell_type": "code",
   "execution_count": 25,
   "id": "93a233ea-1fa8-45dc-b04d-af32c4b5da89",
   "metadata": {},
   "outputs": [
    {
     "data": {
      "text/plain": [
       "350"
      ]
     },
     "execution_count": 25,
     "metadata": {},
     "output_type": "execute_result"
    }
   ],
   "source": [
    "B.get_price()"
   ]
  },
  {
   "cell_type": "code",
   "execution_count": 26,
   "id": "9f4dc49e-4ecd-48f9-bb8d-2151dbff1da3",
   "metadata": {},
   "outputs": [],
   "source": [
    "B.set_price(90)"
   ]
  },
  {
   "cell_type": "code",
   "execution_count": 27,
   "id": "38ffb4c7-71de-4b97-94fe-3aff88535129",
   "metadata": {},
   "outputs": [
    {
     "data": {
      "text/plain": [
       "100"
      ]
     },
     "execution_count": 27,
     "metadata": {},
     "output_type": "execute_result"
    }
   ],
   "source": [
    "B.get_price()"
   ]
  },
  {
   "cell_type": "code",
   "execution_count": null,
   "id": "7c1e195b-6e0a-44aa-98ae-96512df26240",
   "metadata": {},
   "outputs": [],
   "source": [
    "\"\"\"Q3. What is abc module in python? Why is it used?\"\"\"\n",
    "ans.The 'abc' module in Python library provides the infrastructure for defining custom abstract base classes. \n",
    "    'abc' works by marking methods of the base class as abstract. This is done by @absttractmethod decorator."
   ]
  },
  {
   "cell_type": "code",
   "execution_count": null,
   "id": "4dc09727-b5b7-4e24-a8be-1c665c0094c5",
   "metadata": {},
   "outputs": [],
   "source": [
    "\"\"\"Q4. How can we achieve data abstraction?\"\"\"\n",
    "ans.In Python, data abstraction can be achieved through the use of classes and objects.\n",
    "A class can be used to define an abstract data type, which encapsulates data and\n",
    "the operations that can be performed on that data. The class can then be used to create objects,\n",
    "which represent instances of the abstract data type. By hiding the implementation details of the data\n",
    "and operations within the class, and only exposing a public interface for interacting with the data,\n",
    "we can achieve data abstraction\n",
    "\n"
   ]
  },
  {
   "cell_type": "code",
   "execution_count": 28,
   "id": "04ab9f70-b389-4320-82ad-a835d4cba3ef",
   "metadata": {},
   "outputs": [
    {
     "name": "stdout",
     "output_type": "stream",
     "text": [
      "3\n",
      "2\n",
      "1\n"
     ]
    }
   ],
   "source": [
    "class Stack:\n",
    "    def __init__(self):\n",
    "        self._stack = []\n",
    "\n",
    "    def push(self, item):\n",
    "        self._stack.append(item)\n",
    "\n",
    "    def pop(self):\n",
    "        return self._stack.pop()\n",
    "\n",
    "stack = Stack()\n",
    "stack.push(1)\n",
    "stack.push(2)\n",
    "stack.push(3)\n",
    "\n",
    "print(stack.pop()) # 3\n",
    "print(stack.pop()) # 2\n",
    "print(stack.pop()) # 1"
   ]
  },
  {
   "cell_type": "code",
   "execution_count": null,
   "id": "04fe7e0e-0b10-45a9-aa7f-058450161fce",
   "metadata": {},
   "outputs": [],
   "source": [
    "Q5. Can we create an instance of an abstract class? Explain your answer.\n",
    "No, we cannot create an instance of an abstract class in Python.\n",
    "An abstract class is a class that has one or more abstract methods,\n",
    "which are methods that do not have an implementation in the abstract class but must be implemented in the subclass.\n",
    "Since an abstract class has one or more abstract methods that do not have an implementation,\n",
    "it is not possible to create an instance of an abstract class.\n",
    "Instead, we must create a concrete subclass that implements\n",
    "all the abstract methods defined in the abstract class.\n",
    "Once we have a concrete subclass, we can create an instance of that subclass.\n",
    "\n",
    "For example, consider the following abstract class:\n",
    "\n"
   ]
  },
  {
   "cell_type": "code",
   "execution_count": 1,
   "id": "e9ee4aaf-8620-4e75-8262-5330565cf58a",
   "metadata": {},
   "outputs": [],
   "source": [
    "import abc\n",
    "\n",
    "class MyAbstractClass(metaclass=abc.ABCMeta):\n",
    "    \"\"\"Since this class has an abstract method `my_abstract_method` that does not have an implementation, \n",
    "    we cannot create an instance of this class directly. \n",
    "    Instead, we must create a concrete subclass that implements the `my_abstract_method` method, like this:\"\"\"\n",
    "\n",
    "    @abc.abstractmethod\n",
    "    def my_abstract_method(self):\n",
    "        pass\n",
    "\n",
    "\n",
    "class MyConcreteClass(MyAbstractClass):\n",
    "    \"\"\"This is perfectly valid because MyConcreteClass is a \n",
    "    concrete subclass that implements all the abstract methods defined in MyAbstractClass\"\"\"\n",
    "\n",
    "    def my_abstract_method(self):\n",
    "        print(\"This is a concrete implementation of the abstract method\")\n",
    "# Now, we can create an instance of the MyConcreteClass subclass:\n",
    "obj = MyConcreteClass()\n"
   ]
  },
  {
   "cell_type": "code",
   "execution_count": null,
   "id": "d3174f1b-8fab-4893-8e7b-37477c62070b",
   "metadata": {},
   "outputs": [],
   "source": []
  }
 ],
 "metadata": {
  "kernelspec": {
   "display_name": "Python 3 (ipykernel)",
   "language": "python",
   "name": "python3"
  },
  "language_info": {
   "codemirror_mode": {
    "name": "ipython",
    "version": 3
   },
   "file_extension": ".py",
   "mimetype": "text/x-python",
   "name": "python",
   "nbconvert_exporter": "python",
   "pygments_lexer": "ipython3",
   "version": "3.10.8"
  }
 },
 "nbformat": 4,
 "nbformat_minor": 5
}
