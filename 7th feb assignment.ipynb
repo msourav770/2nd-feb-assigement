{
 "cells": [
  {
   "cell_type": "code",
   "execution_count": 1,
   "id": "dd3a2229-7542-429d-a60d-a43eb8ccb8c4",
   "metadata": {},
   "outputs": [
    {
     "name": "stdin",
     "output_type": "stream",
     "text": [
      "enter your password SM@mondal#123456\n"
     ]
    },
    {
     "name": "stdout",
     "output_type": "stream",
     "text": [
      "Invalid Password\n"
     ]
    }
   ],
   "source": [
    "\"\"\"Q1. You are writing code for a company. The requirement of the company is that you create a python\n",
    "function that will check whether the password entered by the user is correct or not. The function should\n",
    "take the password as input and return the string “Valid Password” if the entered password follows the\n",
    "below-given password guidelines else it should return “Invalid Password”.\n",
    "Note: 1. The Password should contain at least two uppercase letters and at least two lowercase letters.\n",
    "2. The Password should contain at least a number and three special characters.\n",
    "3. The length of the password should be 10 characters long.\"\"\"\n",
    "\n",
    "import string\n",
    "def check_password(password):\n",
    "    if len(password) >=10:\n",
    "        count_uppercase = 0\n",
    "        count_lowercase = 0\n",
    "        count_special = 0\n",
    "        count_num = 0\n",
    "        for word in password:\n",
    "            if word in string.ascii_uppercase:\n",
    "                count_uppercase += 1\n",
    "                continue\n",
    "            if word in string.ascii_lowercase:\n",
    "                count_lowercase += 1\n",
    "                continue\n",
    "            if word in string.octdigits:\n",
    "                count_num += 1\n",
    "                continue\n",
    "            if word in string.punctuation:\n",
    "                count_special +=1\n",
    "            if count_lowercase >=2 or count_lowercase >=2 or count_num >=1 or count_special >=3:\n",
    "                return (\"Valid Password\")\n",
    "            else:\n",
    "                return (\"Invalid Password\")\n",
    "    else:\n",
    "        return(\"Invalid Password\")\n",
    "user_input=input(\"enter your password\")\n",
    "print(check_password(user_input))"
   ]
  },
  {
   "cell_type": "code",
   "execution_count": null,
   "id": "61ec3ce9-6e52-4db2-873a-40d29464ea37",
   "metadata": {},
   "outputs": [],
   "source": [
    "\"\"\"Q2. Solve the below-given questions using at least one of the following:\n",
    "1. Lambda functioJ\n",
    "2. Filter functioJ\n",
    "3. Zap functioJ\n",
    "4. List ComprehensioI\n",
    "* Check if the string starts with a particular letter\n",
    "* Check if the string is numericY\n",
    "* Sort a list of tuples having fruit names and their quantity. [(\"mango\",99),(\"orange\",80), (\"grapes\", 1000)]\n",
    "* Find the squares of numbers from 1 to 10.\n",
    "* Find the cube root of numbers from 1 to 10Y\n",
    "* Check if a given number is evenY\n",
    "* Filter odd numbers from the given list.\n",
    "[1,2,3,4,5,6,7,8,9,10-\n",
    "* Sort a list of integers into positive and negative integers lists.\n",
    "[1,2,3,4,5,6,-1,-2,-3,-4,-5,0]\"\"\""
   ]
  },
  {
   "cell_type": "code",
   "execution_count": 3,
   "id": "ce7e28c9-8a21-473e-b36b-e19e34b038b7",
   "metadata": {},
   "outputs": [
    {
     "name": "stdin",
     "output_type": "stream",
     "text": [
      "Please enter your string ? Ill\n"
     ]
    },
    {
     "name": "stdout",
     "output_type": "stream",
     "text": [
      "True\n"
     ]
    }
   ],
   "source": [
    "#Check if the string starts with a particular letter\n",
    "user_input = input(\"Please enter your string ?\")\n",
    "check_correct = lambda input: True if input[0] == \"I\" else False\n",
    "print(check_correct(user_input))\n",
    "    "
   ]
  },
  {
   "cell_type": "code",
   "execution_count": 4,
   "id": "a7208f3f-0510-462d-b513-cb8538b4962c",
   "metadata": {},
   "outputs": [
    {
     "name": "stdin",
     "output_type": "stream",
     "text": [
      "Please enter your string. 987\n"
     ]
    },
    {
     "name": "stdout",
     "output_type": "stream",
     "text": [
      "True\n"
     ]
    }
   ],
   "source": [
    "# Check if the string is numericY\n",
    "user_input = input(\"Please enter your string.\")\n",
    "check_correct = lambda input: True if input.isnumeric() else False\n",
    "print(check_correct(user_input))"
   ]
  },
  {
   "cell_type": "code",
   "execution_count": 5,
   "id": "be7b59ad-2687-4cce-8a5c-3ab75f975b9e",
   "metadata": {},
   "outputs": [
    {
     "name": "stdout",
     "output_type": "stream",
     "text": [
      "[('orange', 80), ('mango', 99), ('grapes', 1000)]\n"
     ]
    }
   ],
   "source": [
    "#Sort a list of tuples having fruit names and their quantity. [(\"mango\",99),(\"orange\",80), (\"grapes\", 1000)]\n",
    "tuple=[(\"mango\",99),(\"orange\",80), (\"grapes\", 1000)]\n",
    "tuple.sort(key=lambda x:x[1])\n",
    "print(tuple)"
   ]
  },
  {
   "cell_type": "code",
   "execution_count": 6,
   "id": "f30ec2ec-f463-4039-8d5d-fd67016ce621",
   "metadata": {},
   "outputs": [
    {
     "name": "stdout",
     "output_type": "stream",
     "text": [
      "[1, 4, 9, 16, 25, 36, 49, 64, 81, 100]\n"
     ]
    }
   ],
   "source": [
    "#Find the squares of numbers from 1 to 10\n",
    "sq_list = [word**2 for word in range(1, 11)]\n",
    "print(sq_list)"
   ]
  },
  {
   "cell_type": "code",
   "execution_count": 7,
   "id": "28bafc64-d162-43ed-a211-1d56f1118b90",
   "metadata": {},
   "outputs": [
    {
     "name": "stdout",
     "output_type": "stream",
     "text": [
      "[1, 8, 27, 64, 125, 216, 343, 512, 729, 1000]\n"
     ]
    }
   ],
   "source": [
    "#Find the cube root of numbers from 1 to 10\n",
    "cube_list=[word**3 for word in range(1,11)]\n",
    "print(cube_list)"
   ]
  },
  {
   "cell_type": "code",
   "execution_count": 9,
   "id": "609ce525-2918-4c47-8d1f-624b49083752",
   "metadata": {},
   "outputs": [
    {
     "name": "stdin",
     "output_type": "stream",
     "text": [
      "Please enter your no.? 964\n"
     ]
    },
    {
     "name": "stdout",
     "output_type": "stream",
     "text": [
      "['True']\n"
     ]
    }
   ],
   "source": [
    "#Check if a given number is even\n",
    "user_input = int(input(\"Please enter your no.?\"))\n",
    "new_list =[]\n",
    "new_list.append(user_input)\n",
    "result  = [ \"True\" for num in new_list if num%2 ==0]\n",
    "print(result)"
   ]
  },
  {
   "cell_type": "code",
   "execution_count": 10,
   "id": "ad66c10a-d10e-437a-9b15-14aef71ccd6c",
   "metadata": {},
   "outputs": [
    {
     "name": "stdout",
     "output_type": "stream",
     "text": [
      "The list of odd numbers is:  [1, 3, 5, 7, 9]\n"
     ]
    }
   ],
   "source": [
    "\"\"\"Filter odd numbers from the given list.\n",
    "[1,2,3,4,5,6,7,8,9,10\"\"\"\n",
    "num_list = [1,2,3,4,5,6,7,8,9,10]\n",
    "odd = filter(lambda p : p%2 == 1, num_list)\n",
    "print(\"The list of odd numbers is: \", list(odd))"
   ]
  },
  {
   "cell_type": "code",
   "execution_count": 11,
   "id": "cf29bb0e-37b4-4247-8059-557307c696d6",
   "metadata": {},
   "outputs": [
    {
     "name": "stdout",
     "output_type": "stream",
     "text": [
      "[-5, -4, -3, -2, -1]\n",
      "[0, 1, 2, 3, 4, 5, 6]\n"
     ]
    }
   ],
   "source": [
    "\"\"\"Sort a list of integers into positive and negative integers lists.\n",
    "[1,2,3,4,5,6,-1,-2,-3,-4,-5,0]\"\"\"\n",
    "test_list =  [1,2,3,4,5,6,-1,-2,-3,-4,-5,0]\n",
    "list_a = [num for num in test_list if num < 0]\n",
    "list_b = [num for num in test_list if num >=0]\n",
    "list_a.sort()\n",
    "list_b.sort()\n",
    "print(list_a)\n",
    "print(list_b)"
   ]
  },
  {
   "cell_type": "code",
   "execution_count": null,
   "id": "953f5b4f-95ee-4e2a-b4d3-616cadef5e42",
   "metadata": {},
   "outputs": [],
   "source": []
  }
 ],
 "metadata": {
  "kernelspec": {
   "display_name": "Python 3 (ipykernel)",
   "language": "python",
   "name": "python3"
  },
  "language_info": {
   "codemirror_mode": {
    "name": "ipython",
    "version": 3
   },
   "file_extension": ".py",
   "mimetype": "text/x-python",
   "name": "python",
   "nbconvert_exporter": "python",
   "pygments_lexer": "ipython3",
   "version": "3.10.8"
  }
 },
 "nbformat": 4,
 "nbformat_minor": 5
}
