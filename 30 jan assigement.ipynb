{
 "cells": [
  {
   "cell_type": "code",
   "execution_count": 2,
   "id": "29698ce4-6300-4bc8-9e14-04be967d9a6c",
   "metadata": {},
   "outputs": [
    {
     "name": "stdin",
     "output_type": "stream",
     "text": [
      "enter your number 85\n"
     ]
    },
    {
     "name": "stdout",
     "output_type": "stream",
     "text": [
      "your grade is B\n"
     ]
    }
   ],
   "source": [
    "#Answer-1\n",
    "user_input=int(input(\"enter your number\"))\n",
    "if user_input>90:\n",
    "    print(\"your grade is A\")\n",
    "elif user_input<=90 or number>80:\n",
    "    print(\"your grade is B\")\n",
    "elif user_input<=80 or user_input>60:\n",
    "    print(\"your grade is C\")\n",
    "if user_input<60:\n",
    "    print(\"your grade is D\")"
   ]
  },
  {
   "cell_type": "code",
   "execution_count": 3,
   "id": "01ded1f6-3def-498a-8b13-2f2160c211f9",
   "metadata": {},
   "outputs": [
    {
     "name": "stdin",
     "output_type": "stream",
     "text": [
      "enter your cost prise in Rs. 78000\n"
     ]
    },
    {
     "name": "stdout",
     "output_type": "stream",
     "text": [
      "your tax is 10%\n"
     ]
    }
   ],
   "source": [
    "#Answer-2\n",
    "user_input=int(input(\"enter your cost prise in Rs.\"))\n",
    "if user_input>100000:\n",
    "    print(\"your tax is 15%\")\n",
    "elif user_input<=100000 or user_input>50000:\n",
    "    print(\"your tax is 10%\")\n",
    "elif user_input<=50000:\n",
    "    print(\"your tax is 5%\")"
   ]
  },
  {
   "cell_type": "code",
   "execution_count": 4,
   "id": "96bb3fac-c42d-477b-a7d6-3d590a0bc1e1",
   "metadata": {},
   "outputs": [
    {
     "name": "stdin",
     "output_type": "stream",
     "text": [
      "enter your city name jaipur\n"
     ]
    },
    {
     "name": "stdout",
     "output_type": "stream",
     "text": [
      "mountail is jal mahal\n"
     ]
    }
   ],
   "source": [
    "#Answer-3\n",
    "city=input(\"enter your city name\")\n",
    "if city==\"delhi\":\n",
    "    print(\"mountail is red fort\")\n",
    "elif city==\"agra\":\n",
    "    print(\"mountail is taj maal\")\n",
    "elif city==\"jaipur\":\n",
    "    print(\"mountail is jal mahal\")"
   ]
  },
  {
   "cell_type": "code",
   "execution_count": 5,
   "id": "ebacddc1-e5e5-42a2-b0bb-c86162acd1fe",
   "metadata": {},
   "outputs": [
    {
     "name": "stdin",
     "output_type": "stream",
     "text": [
      "enter yor number 99\n"
     ]
    },
    {
     "name": "stdout",
     "output_type": "stream",
     "text": [
      "2\n"
     ]
    }
   ],
   "source": [
    "#Answer-4\n",
    "number= int(input(\"enter yor number\"))\n",
    "count=0\n",
    "while number>1:\n",
    "    if number%3==0:\n",
    "        number=number/3\n",
    "        count+=1\n",
    "    elif number%3!=0:\n",
    "        number=number-1\n",
    "    if number<=10:\n",
    "        break\n",
    "print(count)"
   ]
  },
  {
   "cell_type": "code",
   "execution_count": 6,
   "id": "eb2f8c73-1532-4d0f-88e5-79541f889bc0",
   "metadata": {},
   "outputs": [
    {
     "name": "stdout",
     "output_type": "stream",
     "text": [
      "10\n",
      "9\n",
      "8\n",
      "7\n",
      "6\n",
      "5\n",
      "4\n",
      "3\n",
      "2\n",
      "1\n",
      "0\n"
     ]
    }
   ],
   "source": [
    "#Answer-5\n",
    "\"\"\"while_loop =A \"While\" Loop is used to repeat a specific block of code an unknown number of times,\n",
    "until a condition is met. For example, if we want to ask a user for a number between 1 and 10,\n",
    "we don't know how many times the user may enter a larger number, so we keep asking \n",
    "\"while the number is not between 1 and 10\".\"\"\"\n",
    "#example\n",
    "i = 10\n",
    "while i >=0 :\n",
    "    print(i)\n",
    "    i-=1"
   ]
  },
  {
   "cell_type": "code",
   "execution_count": 7,
   "id": "c5d0e0ff-ad35-4868-899b-dd120631b517",
   "metadata": {},
   "outputs": [
    {
     "name": "stdin",
     "output_type": "stream",
     "text": [
      "Enter number of rows :  3\n"
     ]
    },
    {
     "name": "stdout",
     "output_type": "stream",
     "text": [
      "* \n",
      "* * \n",
      "* * * \n"
     ]
    }
   ],
   "source": [
    "#Answer-6\n",
    "n = int(input('Enter number of rows : '))\n",
    "i = 1\n",
    "while i <= n :\n",
    "    j = 1\n",
    "    while j <= i:\n",
    "        print(\"*\", end = \" \")\n",
    "        j += 1        \n",
    "    print()\n",
    "    i += 1"
   ]
  },
  {
   "cell_type": "code",
   "execution_count": 8,
   "id": "6af6d282-c942-43f8-bcda-351663d94fc3",
   "metadata": {},
   "outputs": [
    {
     "name": "stdout",
     "output_type": "stream",
     "text": [
      "10\n",
      "9\n",
      "8\n",
      "7\n",
      "6\n",
      "5\n",
      "4\n",
      "3\n",
      "2\n",
      "1\n"
     ]
    }
   ],
   "source": [
    "#Answer-7\n",
    "i=10\n",
    "while i>0:\n",
    "    print(i)\n",
    "    i-=1"
   ]
  },
  {
   "cell_type": "code",
   "execution_count": 9,
   "id": "d0f650b5-f524-4cd4-80d5-1f98de606f93",
   "metadata": {},
   "outputs": [
    {
     "name": "stdout",
     "output_type": "stream",
     "text": [
      "10\n",
      "9\n",
      "8\n",
      "7\n",
      "6\n",
      "5\n",
      "4\n",
      "3\n",
      "2\n",
      "1\n"
     ]
    }
   ],
   "source": [
    "#Answer-8\n",
    "i=10\n",
    "while i>0:\n",
    "    print(i)\n",
    "    i-=1"
   ]
  },
  {
   "cell_type": "code",
   "execution_count": null,
   "id": "d4223358-8fa3-4e08-a9a8-713d63342e8d",
   "metadata": {},
   "outputs": [],
   "source": []
  }
 ],
 "metadata": {
  "kernelspec": {
   "display_name": "Python 3 (ipykernel)",
   "language": "python",
   "name": "python3"
  },
  "language_info": {
   "codemirror_mode": {
    "name": "ipython",
    "version": 3
   },
   "file_extension": ".py",
   "mimetype": "text/x-python",
   "name": "python",
   "nbconvert_exporter": "python",
   "pygments_lexer": "ipython3",
   "version": "3.10.8"
  }
 },
 "nbformat": 4,
 "nbformat_minor": 5
}
