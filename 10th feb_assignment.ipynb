{
 "cells": [
  {
   "cell_type": "markdown",
   "id": "c2d3d718-5974-45dd-9483-f0095e4fece5",
   "metadata": {},
   "source": [
    "Q1. Which function is used to open a file? What are the different modes of opening a file? Explain each mode\n",
    "of file opening.\n",
    "ans:-the function used to open a file is open().\n",
    "The different modes of opening a file in Python are:\n",
    "1.\"r\" (read mode): This mode opens a file for reading only. It raises an error if the file does not exist.\n",
    "2.\"w\" (write mode): This mode opens a file for writing only. If the file already exists,\n",
    "    it truncates the file to zero length. If the file does not exist, it creates a new file.\n",
    "3.\"a\" (append mode): This mode opens a file for writing only. If the file already exists,\n",
    "    it appends data to the end of the file. If the file does not exist, it creates a new file.\n",
    "4.\"x\" (exclusive creation mode): This mode creates a new file and opens it for writing only.\n",
    "    If the file already exists, it raises an error.\n",
    "5.\"b\" (binary mode): This mode opens a file in binary mode. It should be used with one of the other modes (e.g., \"rb\" for read mode in binary).\n",
    "\n",
    "Modes can be combined with a plus sign (\"+\") to allow both reading and writing. For example, \"r+\" opens the file for both reading and writing.\n",
    "\n",
    "It's important to note that when a file is opened, it should always be closed after use using the close() function."
   ]
  },
  {
   "cell_type": "markdown",
   "id": "2179cbbb-04f8-40ed-b64d-d0d915b23cd8",
   "metadata": {},
   "source": [
    "(Q2: Why close() function is used? Why is it important to close a file?\n",
    "Ans:-The close() function is used to close a file that was previously opened using the open() function in Python.\n",
    "It is important to close a file after use for several reasons:\n",
    "1.To free up system resources: When a file is opened, the operating system assigns resources to handle the file.\n",
    "If a file is not closed after use, these resources will continue to be allocated until the program terminates or the file is closed.\n",
    "This can lead to resource exhaustion, which can cause problems for the operating system and other applications.\n",
    "\n",
    "2.To ensure data is written to the file: When a file is opened for writing,\n",
    "data is written to an internal buffer until it is written to the file on disk.\n",
    "If the file is not closed properly, the data in the buffer may not be written to the file,\n",
    "which can result in data loss or corruption.\n",
    "\n",
    "3.To prevent accidental modification: If a file is not closed after use,\n",
    "it can still be modified by other programs or users, which can lead to unexpected behavior and errors.\n",
    "\n",
    "To avoid these problems, it's important to always close a file after use using the close() function.\n",
    "Alternatively, you can use a context manager (with open(...) as file:) to automatically close the file when the block of code is exited.)"
   ]
  },
  {
   "cell_type": "markdown",
   "id": "c3c276af-c1ee-49ae-ac68-b7d34a936ffa",
   "metadata": {},
   "source": [
    "Q3. Write a python program to create a text file. Write ‘I want to become a Data Scientist’ in that file. Then\n",
    "close the file. Open this file and read the content of the file."
   ]
  },
  {
   "cell_type": "code",
   "execution_count": 21,
   "id": "4d9641e2-6878-4e2f-ba13-2f710620997e",
   "metadata": {},
   "outputs": [],
   "source": [
    "f=open(\"test.txt\" , 'w')"
   ]
  },
  {
   "cell_type": "code",
   "execution_count": 22,
   "id": "1f9f9a47-4b74-4b05-b9a5-aa6421181124",
   "metadata": {},
   "outputs": [
    {
     "data": {
      "text/plain": [
       "33"
      ]
     },
     "execution_count": 22,
     "metadata": {},
     "output_type": "execute_result"
    }
   ],
   "source": [
    "f.write(\"I want to become a Data Scientist\")"
   ]
  },
  {
   "cell_type": "code",
   "execution_count": 23,
   "id": "89149f4e-f5c3-4b4d-b956-868d285b538f",
   "metadata": {},
   "outputs": [],
   "source": [
    "f.close()"
   ]
  },
  {
   "cell_type": "code",
   "execution_count": 24,
   "id": "63770f31-e855-4c7b-bb82-3882906ce899",
   "metadata": {},
   "outputs": [],
   "source": [
    "f=open(\"test.txt\" , 'r')"
   ]
  },
  {
   "cell_type": "code",
   "execution_count": 25,
   "id": "9dda02b5-22bb-4418-aa9c-2a033b7f7fec",
   "metadata": {},
   "outputs": [
    {
     "data": {
      "text/plain": [
       "'I want to become a Data Scientist'"
      ]
     },
     "execution_count": 25,
     "metadata": {},
     "output_type": "execute_result"
    }
   ],
   "source": [
    "f.read()"
   ]
  },
  {
   "cell_type": "markdown",
   "id": "d3f8246f-38f2-4d26-aeb6-625aec2ad48b",
   "metadata": {},
   "source": [
    "Question4. Explain the following with python code: read(), readline() and readlines().\n",
    "Ans:-In Python, there are several ways to read the contents of a file.\n",
    "Here's a brief explanation of read(), readline(), and readlines(),\n",
    "along with examples of how to use them:\n",
    "\n",
    "1.read(): This method reads the entire content of a file and returns it as a string. If the file is too large, it may not fit into memory."
   ]
  },
  {
   "cell_type": "code",
   "execution_count": 2,
   "id": "62ce58cc-60a5-4865-b85b-aaeef5756388",
   "metadata": {},
   "outputs": [],
   "source": [
    "file=open(\"example_read.txt\" , 'w')"
   ]
  },
  {
   "cell_type": "code",
   "execution_count": 3,
   "id": "ca33a234-20ff-4ade-a669-7797311bee85",
   "metadata": {},
   "outputs": [
    {
     "data": {
      "text/plain": [
       "82"
      ]
     },
     "execution_count": 3,
     "metadata": {},
     "output_type": "execute_result"
    }
   ],
   "source": [
    "file.write(\"I want to become a data scientist.I am learning Python.Data science is interesting\")"
   ]
  },
  {
   "cell_type": "code",
   "execution_count": 7,
   "id": "ff3a2f37-2682-4b10-93dc-b7c24c63e5ca",
   "metadata": {},
   "outputs": [],
   "source": [
    "file.close()"
   ]
  },
  {
   "cell_type": "code",
   "execution_count": 11,
   "id": "b82cd413-91dc-44f0-a06f-e5c0974c6b1d",
   "metadata": {},
   "outputs": [],
   "source": [
    "file=open(\"example_read.txt\" ,'r')"
   ]
  },
  {
   "cell_type": "code",
   "execution_count": 14,
   "id": "1e6c9b43-5291-4d0d-a71a-1667e2e21d19",
   "metadata": {},
   "outputs": [],
   "source": [
    "content=file.read()"
   ]
  },
  {
   "cell_type": "code",
   "execution_count": 15,
   "id": "864bc655-07ea-4d1b-80c0-59956325d79b",
   "metadata": {},
   "outputs": [
    {
     "name": "stdout",
     "output_type": "stream",
     "text": [
      "I want to become a data scientist.I am learning Python.Data science is interesting\n"
     ]
    }
   ],
   "source": [
    "print(content)"
   ]
  },
  {
   "cell_type": "markdown",
   "id": "05fa10fb-f5db-4e15-b4b6-97e2c6c51ecc",
   "metadata": {},
   "source": [
    "2.readline(): This method reads one line at a time from the file and returns it as a string. It returns an empty string when the end of the file is reached"
   ]
  },
  {
   "cell_type": "code",
   "execution_count": 11,
   "id": "cb184c1e-4ac8-4b90-bd33-c9012e0d988b",
   "metadata": {},
   "outputs": [
    {
     "data": {
      "text/plain": [
       "0"
      ]
     },
     "execution_count": 11,
     "metadata": {},
     "output_type": "execute_result"
    }
   ],
   "source": [
    "file.seek(0)"
   ]
  },
  {
   "cell_type": "code",
   "execution_count": 12,
   "id": "14a56c9f-b755-4cb9-a40c-8050cf4ed547",
   "metadata": {},
   "outputs": [
    {
     "data": {
      "text/plain": [
       "'I want to become a data scientist.I am learning Python.Data science is interesting'"
      ]
     },
     "execution_count": 12,
     "metadata": {},
     "output_type": "execute_result"
    }
   ],
   "source": [
    "file.readline()"
   ]
  },
  {
   "cell_type": "markdown",
   "id": "1ae3419e-d12a-49ae-a5b8-02fc834a53b8",
   "metadata": {},
   "source": [
    "3.readlines(): This method reads all the lines of a file and returns them as a list of strings.\n",
    "Each line is a separate element in the list"
   ]
  },
  {
   "cell_type": "code",
   "execution_count": 4,
   "id": "da00ee53-f8de-425a-be77-e3606aeeaf2f",
   "metadata": {},
   "outputs": [],
   "source": [
    "file=open(\"example_readlines\",'w')"
   ]
  },
  {
   "cell_type": "code",
   "execution_count": 5,
   "id": "a8c7a391-be7a-40cb-b4be-ae6865103864",
   "metadata": {},
   "outputs": [
    {
     "data": {
      "text/plain": [
       "28"
      ]
     },
     "execution_count": 5,
     "metadata": {},
     "output_type": "execute_result"
    }
   ],
   "source": [
    "file.write(\"this is example of readlines\")"
   ]
  },
  {
   "cell_type": "code",
   "execution_count": 6,
   "id": "dcd40a74-cfc9-42ab-9138-de930fe64725",
   "metadata": {},
   "outputs": [],
   "source": [
    "file.close()"
   ]
  },
  {
   "cell_type": "code",
   "execution_count": 7,
   "id": "176bbfe0-0f77-46b9-9208-573757d1f5ed",
   "metadata": {},
   "outputs": [],
   "source": [
    "file=open(\"example_readlines\",'r')"
   ]
  },
  {
   "cell_type": "code",
   "execution_count": 8,
   "id": "1bc4cac3-b58a-41f2-8df0-229125dcc3c2",
   "metadata": {},
   "outputs": [],
   "source": [
    "lines=file.readlines()"
   ]
  },
  {
   "cell_type": "code",
   "execution_count": 9,
   "id": "703896e9-6d58-45c7-8fe0-6265bddbf6ce",
   "metadata": {},
   "outputs": [],
   "source": [
    "file.close()    "
   ]
  },
  {
   "cell_type": "code",
   "execution_count": 11,
   "id": "2a46da6c-afca-4ad0-aab5-1fd81e233dea",
   "metadata": {},
   "outputs": [
    {
     "name": "stdout",
     "output_type": "stream",
     "text": [
      "['this is example of readlines']\n"
     ]
    }
   ],
   "source": [
    "print(lines)"
   ]
  },
  {
   "cell_type": "markdown",
   "id": "af9277bc-8a01-4bb2-8d03-2d84013699a2",
   "metadata": {},
   "source": [
    "Q5. Explain why with statement is used with open(). What is the advantage of using with statement and\n",
    "open() together?"
   ]
  },
  {
   "cell_type": "markdown",
   "id": "f23ca35a-38cf-4df4-94e0-2d9b402d85ef",
   "metadata": {},
   "source": [
    " Ans:-In Python, the with statement is used in conjunction with the open()\n",
    "    function to manage the opening and closing of a file.\n",
    "    The advantage of using the with statement with open()\n",
    "    is that it automatically takes care of closing the file once\n",
    "    the block of code inside the with statement is completed or\n",
    "    an exception is raised. This is done through the use of a context manager,\n",
    "    which guarantees that the file is properly closed, even if an error occurs\n",
    "    during the execution of the block.\n",
    "\n",
    "Here is an example that shows how to use the with statement with open() to read the contents of a file:"
   ]
  },
  {
   "cell_type": "code",
   "execution_count": 17,
   "id": "aed4d53b-ac81-46eb-8ec9-e18d8bd401b4",
   "metadata": {},
   "outputs": [],
   "source": [
    "file=open(\"example2.txt\" , 'w')"
   ]
  },
  {
   "cell_type": "code",
   "execution_count": 18,
   "id": "5ac634d3-cf68-4202-b66b-f2424af5caa9",
   "metadata": {},
   "outputs": [
    {
     "data": {
      "text/plain": [
       "82"
      ]
     },
     "execution_count": 18,
     "metadata": {},
     "output_type": "execute_result"
    }
   ],
   "source": [
    "file.write(\"I want to become a data scientist.I am learning Python.Data science is interesting\")"
   ]
  },
  {
   "cell_type": "code",
   "execution_count": 20,
   "id": "5c29b1be-d8f4-4e9d-a076-b9c778110259",
   "metadata": {},
   "outputs": [
    {
     "name": "stdout",
     "output_type": "stream",
     "text": [
      "I want to become a data scientist.I am learning Python.Data science is interesting\n"
     ]
    }
   ],
   "source": [
    "with open(\"example2.txt\", \"r\") as file:\n",
    "    content = file.read()\n",
    "print(content)"
   ]
  },
  {
   "cell_type": "markdown",
   "id": "aa60ee12-0cae-44e9-b360-2592e5e760ef",
   "metadata": {},
   "source": [
    "Q6. Explain the write() and writelines() functions. Give a suitable example."
   ]
  },
  {
   "cell_type": "markdown",
   "id": "85e8d687-055b-41fb-bf4b-82defe746c4f",
   "metadata": {},
   "source": [
    "ans:-In Python, the write() and writelines() functions are used to write\n",
    "data to a file.Here's a brief explanation of both functions, along with\n",
    "an example of how to use them:\n",
    "\n",
    "1.write(): This method is used to write a string to a file.\n",
    "If the file doesn't exist, it will be created. If the file already exists,\n",
    "the content of the file will be overwritten. The write() method returns\n",
    "the number of characters written to the file."
   ]
  },
  {
   "cell_type": "code",
   "execution_count": 21,
   "id": "9b37187c-4d06-4673-bdc4-ff936f89be19",
   "metadata": {},
   "outputs": [],
   "source": [
    "file=open(\"example3.txt\" , 'w')"
   ]
  },
  {
   "cell_type": "code",
   "execution_count": 22,
   "id": "85bf7447-afcf-4b62-b5eb-87b61a38a830",
   "metadata": {},
   "outputs": [
    {
     "data": {
      "text/plain": [
       "33"
      ]
     },
     "execution_count": 22,
     "metadata": {},
     "output_type": "execute_result"
    }
   ],
   "source": [
    "file.write(\"I want to become a data scientist\")"
   ]
  },
  {
   "cell_type": "code",
   "execution_count": 23,
   "id": "47d2626b-7961-441b-9b1b-63200cce8310",
   "metadata": {},
   "outputs": [],
   "source": [
    "file.close()"
   ]
  },
  {
   "cell_type": "markdown",
   "id": "3ac0a452-3bcb-43f5-a48c-804a81bd3688",
   "metadata": {},
   "source": [
    "2.writelines(): This method is used to write a list of strings to a file. If the file doesn't exist, it will be created. If the file already exists, the content of the file will be overwritten."
   ]
  },
  {
   "cell_type": "code",
   "execution_count": 21,
   "id": "f288ed8f-cb6f-4d3e-9406-3224fa307e9c",
   "metadata": {},
   "outputs": [],
   "source": [
    "file=open(\"example4.txt\" , 'w')"
   ]
  },
  {
   "cell_type": "code",
   "execution_count": null,
   "id": "aa96d6bf-3acf-46e5-9165-51f8b12e5e3d",
   "metadata": {},
   "outputs": [],
   "source": [
    "lines = [\"I want to become a data scientist.\", \"I am learning Python.\", \"Data science is interesting.\"]\n",
    "file.writelines(lines)"
   ]
  }
 ],
 "metadata": {
  "kernelspec": {
   "display_name": "Python 3 (ipykernel)",
   "language": "python",
   "name": "python3"
  },
  "language_info": {
   "codemirror_mode": {
    "name": "ipython",
    "version": 3
   },
   "file_extension": ".py",
   "mimetype": "text/x-python",
   "name": "python",
   "nbconvert_exporter": "python",
   "pygments_lexer": "ipython3",
   "version": "3.10.8"
  }
 },
 "nbformat": 4,
 "nbformat_minor": 5
}
