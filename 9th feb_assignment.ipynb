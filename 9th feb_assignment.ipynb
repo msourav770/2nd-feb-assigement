{
 "cells": [
  {
   "cell_type": "code",
   "execution_count": null,
   "id": "192483bc-8e52-430c-8c78-ef5e09d66b9e",
   "metadata": {},
   "outputs": [],
   "source": [
    "\"\"\"Q1, Create a vehicle class with an init method having instance variables as name_of_vehicle, max_speed\n",
    "and average_of_vehicle.\"\"\""
   ]
  },
  {
   "cell_type": "code",
   "execution_count": 36,
   "id": "5cb82b2e-7a16-47ab-b07d-08e0f5a02273",
   "metadata": {},
   "outputs": [],
   "source": [
    "class vehical:\n",
    "    def __init__(self,name_of_vehicle,max_speed,average_of_vehicle):\n",
    "        self.name_of_vehicle = name_of_vehicle\n",
    "        self.max_speed = max_speed\n",
    "        self.average_of_vehicle = average_of_vehicle\n",
    "    def vehical_info(self):\n",
    "        return self.name_of_vehicle , self.max_speed"
   ]
  },
  {
   "cell_type": "code",
   "execution_count": 37,
   "id": "0e44d6d7-804a-4cf7-960e-dbe07a2f9922",
   "metadata": {},
   "outputs": [],
   "source": [
    "a=vehical(\"suzuki\",130,85)"
   ]
  },
  {
   "cell_type": "code",
   "execution_count": 38,
   "id": "7ccf02a3-56e6-4b8f-ad08-899527713d36",
   "metadata": {},
   "outputs": [
    {
     "data": {
      "text/plain": [
       "('suzuki', 130)"
      ]
     },
     "execution_count": 38,
     "metadata": {},
     "output_type": "execute_result"
    }
   ],
   "source": [
    "a.vehical_info()"
   ]
  },
  {
   "cell_type": "code",
   "execution_count": null,
   "id": "76df8a16-a90d-46bd-b8e5-5bba413e8ee4",
   "metadata": {},
   "outputs": [],
   "source": [
    "\"\"\"Q2. Create a child class car from the vehicle class created in Que 1, which will inherit the vehicle class.\n",
    "Create a method named seating_capacity which takes capacity as an argument and returns the name of\n",
    "the vehicle and its seating capacity.\"\"\""
   ]
  },
  {
   "cell_type": "code",
   "execution_count": 45,
   "id": "23adbe05-dd75-4125-932d-12e146fa9d0d",
   "metadata": {},
   "outputs": [],
   "source": [
    "class vehical:\n",
    "    def __init__(self,name_of_vehicle,max_speed,average_of_vehicle):\n",
    "        self.name_of_vehicle = name_of_vehicle\n",
    "        self.max_speed = max_speed\n",
    "        self.average_of_vehicle = average_of_vehicle"
   ]
  },
  {
   "cell_type": "code",
   "execution_count": 46,
   "id": "bda3d01a-9bce-48dd-9731-3f0307fff3c6",
   "metadata": {},
   "outputs": [],
   "source": [
    "class car(vehical):\n",
    "    def seating_capacity(self, seat_capacity):\n",
    "        self.vehicle_seats = seat_capacity\n",
    "        return self.name_of_vehicle, seat_capacity"
   ]
  },
  {
   "cell_type": "code",
   "execution_count": 47,
   "id": "b4eda427-aad4-48ff-8afb-bcb6970547b7",
   "metadata": {},
   "outputs": [
    {
     "name": "stdout",
     "output_type": "stream",
     "text": [
      "('tata', 1)\n"
     ]
    }
   ],
   "source": [
    "v =car(\"tata\",120,80)\n",
    "print(v.seating_capacity(1))"
   ]
  },
  {
   "cell_type": "code",
   "execution_count": null,
   "id": "4339d25b-f355-46f0-976e-6484f8468eac",
   "metadata": {},
   "outputs": [],
   "source": [
    "\"\"\"Q3. What is multiple inheritance? Write a python code to demonstrate multiple inheritance.\"\"\"\n",
    "\n",
    "ans.Multiple inheritance is a feature of object-oriented programming languages that allows\n",
    "    a class to inherit from multiple parent classes.If a child class inherits from more than one class, i.e.\n",
    "   this child class is derived from multiple classes, we call it multiple inheritance in Python"
   ]
  },
  {
   "cell_type": "code",
   "execution_count": 59,
   "id": "49b851a5-26c4-44e6-94fd-8848b1ac1dc3",
   "metadata": {},
   "outputs": [
    {
     "name": "stdout",
     "output_type": "stream",
     "text": [
      "iphone_13\n",
      "70000\n",
      "phone colour is blue\n",
      "apple\n"
     ]
    }
   ],
   "source": [
    "class mobile:\n",
    "    def __init__(self, brand):\n",
    "        self.brand = brand\n",
    "\n",
    "    def speak(self):\n",
    "        return \"I am a mobile\"\n",
    "\n",
    "class phone:\n",
    "    def __init__(self, brand, price):\n",
    "        self.brand = brand\n",
    "        self.price = price\n",
    "\n",
    "    def colour(self):\n",
    "        return \"phone colour is blue\"\n",
    "\n",
    "class iphone(mobile, phone):\n",
    "    def __init__(self, brand, price):\n",
    "        mobile.__init__(self, brand)\n",
    "        phone.__init__(self, brand, price)\n",
    "\n",
    "    def ring(self):\n",
    "        return \"apple\"\n",
    "\n",
    "iphone = iphone (\"iphone_13\", 70000)\n",
    "print(iphone.brand) # iphone_13\n",
    "print(iphone.price) # 70000\n",
    "print(iphone.colour()) # phone colour is blue\n",
    "print(iphone.ring()) # apple"
   ]
  },
  {
   "cell_type": "code",
   "execution_count": null,
   "id": "03a465b9-f536-43c8-8b23-9d4d47b31fa6",
   "metadata": {},
   "outputs": [],
   "source": [
    "In this example, the mobile class represents an mobile, and the phone class represents a phone.\n",
    "The iphone class is a subclass of both mobile and phone, and inherits the attributes and\n",
    "behaviors from both parent classes. When a method is present in both parent classes,\n",
    "the method from the first parent class in the inheritance list is used.\n",
    "In this case, the colour method from the phone class is used, because it appears first in the inheritance list."
   ]
  },
  {
   "cell_type": "code",
   "execution_count": null,
   "id": "b68d38bc-dc60-4c56-ba2b-05688ad4a9c1",
   "metadata": {},
   "outputs": [],
   "source": [
    "\"\"\"Q4. What are getter and setter in python? Create a class and\n",
    "create a getter and a setter method in this class.\"\"\"\n",
    "\n",
    "ans.Getters and setters are methods that allow you to access and modify the attributes of an object.\n",
    "In Python, they are commonly used to control access to an object's attributes,\n",
    "ensure that data is stored and retrieved in a consistent way,\n",
    "and enforce constraints on the type and value of data stored in an object's attributes.\n",
    "Here's an example of a class with a getter and a setter method in Python:\n",
    "\n",
    "In this example, the Circle class has a radius attribute, which is used to store the radius of a circle.\n",
    "The get_radius method returns the value of the radius attribute,\n",
    "while the set_radius method sets the value of the radius attribute.\n",
    "The set_radius method also checks that the value passed to it is positive and raises a ValueError if it is not.\n",
    "This allows you to enforce constraints on the type and value of the data stored in the radius attribute."
   ]
  },
  {
   "cell_type": "code",
   "execution_count": null,
   "id": "f221bf6e-c20b-4147-8ec4-bd24145555e6",
   "metadata": {},
   "outputs": [],
   "source": [
    "Q5.What is method overriding in python? Write a python code to demonstrate method overriding.\n",
    "\n",
    "ans.Method overriding is a feature of object-oriented programming languages where the subclass\n",
    "or child class can provide the program with specific characteristics or a specific implementation\n",
    "process of data provided that are already defined in the parent class or superclass\n",
    "Here's a simple example of method overriding in Python:\n",
    "\n",
    "In this example, the Dog class overrides the make_sound method of the Animal class to provide a different implementation.\n",
    "When the make_sound method of the dog object is called,\n",
    "the implementation of the method in the Dog class is executed, not the implementation in the Animal class."
   ]
  }
 ],
 "metadata": {
  "kernelspec": {
   "display_name": "Python 3 (ipykernel)",
   "language": "python",
   "name": "python3"
  },
  "language_info": {
   "codemirror_mode": {
    "name": "ipython",
    "version": 3
   },
   "file_extension": ".py",
   "mimetype": "text/x-python",
   "name": "python",
   "nbconvert_exporter": "python",
   "pygments_lexer": "ipython3",
   "version": "3.10.8"
  }
 },
 "nbformat": 4,
 "nbformat_minor": 5
}
