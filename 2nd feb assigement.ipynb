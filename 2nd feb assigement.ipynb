{
 "cells": [
  {
   "cell_type": "code",
   "execution_count": null,
   "id": "20b6bd4f-d37f-41cd-97cd-d3856ccbf2c8",
   "metadata": {},
   "outputs": [],
   "source": [
    "Q1. Explain with an example each when to use a for loop and a while loop.\n",
    "\"For Loop: A for loop is an iteration method that is best used when you know the number of iterations ahead of time\"\n",
    "\"While Loop: A while loop is an iteration method that is best used when you don't know the number of iterations ahead of time.\""
   ]
  },
  {
   "cell_type": "code",
   "execution_count": 19,
   "id": "43cda888-9491-49e0-9e56-82ad5bc3e430",
   "metadata": {},
   "outputs": [],
   "source": [
    "# an example of loop when any one of integer need to remove from a loop by using continue\n",
    "l=[1,2,3,4,5]"
   ]
  },
  {
   "cell_type": "code",
   "execution_count": 20,
   "id": "98a56e5a-d238-4f27-bae2-f3fb02c0ef87",
   "metadata": {},
   "outputs": [
    {
     "name": "stdout",
     "output_type": "stream",
     "text": [
      "2\n",
      "3\n",
      "4\n",
      "5\n"
     ]
    }
   ],
   "source": [
    "for i in l:\n",
    "    if i == 1:\n",
    "        continue\n",
    "    print(i)"
   ]
  },
  {
   "cell_type": "code",
   "execution_count": 21,
   "id": "5115b547-afff-42f5-ac0d-6601c54a8d5e",
   "metadata": {},
   "outputs": [],
   "source": [
    "l1=[\"sourav\",\"mondal\",\"ramesh\"]"
   ]
  },
  {
   "cell_type": "code",
   "execution_count": 22,
   "id": "352cae31-43c0-4cb2-8e9e-be55f840d68a",
   "metadata": {},
   "outputs": [
    {
     "name": "stdout",
     "output_type": "stream",
     "text": [
      "sourav\n",
      "mondal\n"
     ]
    }
   ],
   "source": [
    "# an example of loop when any one of string need to remove from a loop by using break\n",
    "for i in l1:\n",
    "    if i == \"ramesh\":\n",
    "        break\n",
    "    print(i)"
   ]
  },
  {
   "cell_type": "code",
   "execution_count": 23,
   "id": "cc577bf5-0f98-407b-8256-1ef64d696ab6",
   "metadata": {},
   "outputs": [
    {
     "name": "stdout",
     "output_type": "stream",
     "text": [
      "1\n",
      "3\n",
      "5\n",
      "7\n",
      "9\n",
      "11\n",
      "13\n"
     ]
    }
   ],
   "source": [
    "# an example of while loop any one of number need to increase  more than any number from a loop\n",
    "a=1\n",
    "while a<15:\n",
    "    print(a)\n",
    "    a=a+2\n"
   ]
  },
  {
   "cell_type": "code",
   "execution_count": 24,
   "id": "b1f670b2-7631-4fd5-83ba-a4d8f39fdb51",
   "metadata": {},
   "outputs": [
    {
     "name": "stdin",
     "output_type": "stream",
     "text": [
      "enter your number 5\n"
     ]
    },
    {
     "data": {
      "text/plain": [
       "10"
      ]
     },
     "execution_count": 24,
     "metadata": {},
     "output_type": "execute_result"
    }
   ],
   "source": [
    "# an example of while loop any one of number to a limit of number summation value,when value is input by user\n",
    "n=int(input(\"enter your number\"))\n",
    "a=1\n",
    "b=2\n",
    "while b<n:\n",
    "    a=a+b\n",
    "    b=b+1\n",
    "a"
   ]
  },
  {
   "cell_type": "code",
   "execution_count": null,
   "id": "3cd318be-f6a1-48a5-aafb-a06a5a70d499",
   "metadata": {},
   "outputs": [],
   "source": [
    "Q2. Write a python program to print the sum and product of the first 10 natural numbers using for\n",
    "and while loop."
   ]
  },
  {
   "cell_type": "code",
   "execution_count": 25,
   "id": "35cb97bb-cc93-4b72-96b1-6b346754065b",
   "metadata": {},
   "outputs": [
    {
     "name": "stdout",
     "output_type": "stream",
     "text": [
      "55\n"
     ]
    }
   ],
   "source": [
    "# for print the sum of 10 natural number\n",
    "a=0\n",
    "sum=0\n",
    "while(a<=10):\n",
    "    sum+=a\n",
    "    a+=1\n",
    "print(sum)"
   ]
  },
  {
   "cell_type": "code",
   "execution_count": 26,
   "id": "f05af324-c00c-4de2-a55b-d623c27d044a",
   "metadata": {},
   "outputs": [
    {
     "name": "stdout",
     "output_type": "stream",
     "text": [
      "3628800\n"
     ]
    }
   ],
   "source": [
    "# for print the product of 10 natural number\n",
    "a=1\n",
    "sum=1\n",
    "while(a<=10):\n",
    "    sum*=a\n",
    "    a+=1\n",
    "print(sum)"
   ]
  },
  {
   "cell_type": "code",
   "execution_count": null,
   "id": "e83386b9-5652-4e95-b46f-eb537f4bba49",
   "metadata": {},
   "outputs": [],
   "source": [
    "Q3. Create a python program to compute the electricity bill for a household.\n",
    "The per-unit charges in rupees are as follows: For the first 100 units, the user will be charged Rs. 4.5 per\n",
    "unit, for the next 100 units, the user will be charged Rs. 6 per unit, and for the next 100 units, the user will\n",
    "be charged Rs. 10 per unit, After 300 units and above the user will be charged Rs. 20 per unit.\n",
    "You are required to take the units of electricity consumed in a month from the user as input.\n",
    "Your program must pass this test case: when the unit of electricity consumed by the user in a month is\n",
    "310, the total electricity bill should be 2250."
   ]
  },
  {
   "cell_type": "code",
   "execution_count": 27,
   "id": "79722871-c373-49f2-8751-e3e43c8e51d5",
   "metadata": {},
   "outputs": [
    {
     "name": "stdin",
     "output_type": "stream",
     "text": [
      "enter electricity bill unit for a month 310\n"
     ]
    },
    {
     "name": "stdout",
     "output_type": "stream",
     "text": [
      "2250.0\n"
     ]
    }
   ],
   "source": [
    "# answer\n",
    "unit=int(input(\"enter electricity bill unit for a month\"))\n",
    "if unit<=100:\n",
    "    print(unit*4.5)\n",
    "if unit<=200:\n",
    "    print(100*4.5 + (unit-100)*6)\n",
    "if unit<=300:\n",
    "    print(100*4.5 + 100*6 + (unit-200)*10)\n",
    "elif unit<=400:\n",
    "    print(100*4.5 + 100*6 + 100*10 + (unit-300)*20)\n",
    "# answer is your monthly electricity bill."
   ]
  },
  {
   "cell_type": "code",
   "execution_count": null,
   "id": "83d1fb4a-baf3-4185-b9b2-0aef111212cc",
   "metadata": {},
   "outputs": [],
   "source": [
    "Q4. Create a list of numbers from 1 to 100. Use for loop and while loop to calculate the cube of each\n",
    "number and if the cube of that number is divisible by 4 or 5 then append that number in a list and print\n",
    "that list."
   ]
  },
  {
   "cell_type": "code",
   "execution_count": 28,
   "id": "3ad4b306-dda0-4c6e-994a-0db6cac5cb1d",
   "metadata": {},
   "outputs": [
    {
     "name": "stdout",
     "output_type": "stream",
     "text": [
      "1=1\n",
      "2=8\n",
      "3=27\n",
      "4=64\n",
      "5=125\n",
      "6=216\n",
      "7=343\n",
      "8=512\n",
      "9=729\n",
      "10=1000\n",
      "11=1331\n",
      "12=1728\n",
      "13=2197\n",
      "14=2744\n",
      "15=3375\n",
      "16=4096\n",
      "17=4913\n",
      "18=5832\n",
      "19=6859\n",
      "20=8000\n",
      "21=9261\n",
      "22=10648\n",
      "23=12167\n",
      "24=13824\n",
      "25=15625\n",
      "26=17576\n",
      "27=19683\n",
      "28=21952\n",
      "29=24389\n",
      "30=27000\n",
      "31=29791\n",
      "32=32768\n",
      "33=35937\n",
      "34=39304\n",
      "35=42875\n",
      "36=46656\n",
      "37=50653\n",
      "38=54872\n",
      "39=59319\n",
      "40=64000\n",
      "41=68921\n",
      "42=74088\n",
      "43=79507\n",
      "44=85184\n",
      "45=91125\n",
      "46=97336\n",
      "47=103823\n",
      "48=110592\n",
      "49=117649\n",
      "50=125000\n",
      "51=132651\n",
      "52=140608\n",
      "53=148877\n",
      "54=157464\n",
      "55=166375\n",
      "56=175616\n",
      "57=185193\n",
      "58=195112\n",
      "59=205379\n",
      "60=216000\n",
      "61=226981\n",
      "62=238328\n",
      "63=250047\n",
      "64=262144\n",
      "65=274625\n",
      "66=287496\n",
      "67=300763\n",
      "68=314432\n",
      "69=328509\n",
      "70=343000\n",
      "71=357911\n",
      "72=373248\n",
      "73=389017\n",
      "74=405224\n",
      "75=421875\n",
      "76=438976\n",
      "77=456533\n",
      "78=474552\n",
      "79=493039\n",
      "80=512000\n",
      "81=531441\n",
      "82=551368\n",
      "83=571787\n",
      "84=592704\n",
      "85=614125\n",
      "86=636056\n",
      "87=658503\n",
      "88=681472\n",
      "89=704969\n",
      "90=729000\n",
      "91=753571\n",
      "92=778688\n",
      "93=804357\n",
      "94=830584\n",
      "95=857375\n",
      "96=884736\n",
      "97=912673\n",
      "98=941192\n",
      "99=970299\n",
      "100=1000000\n",
      "[2, 4, 5, 6, 8, 10, 12, 14, 15, 16, 18, 20, 22, 24, 25, 26, 28, 30, 32, 34, 35, 36, 38, 40, 42, 44, 45, 46, 48, 50, 52, 54, 55, 56, 58, 60, 62, 64, 65, 66, 68, 70, 72, 74, 75, 76, 78, 80, 82, 84, 85, 86, 88, 90, 92, 94, 95, 96, 98, 100]\n"
     ]
    }
   ],
   "source": [
    "a=1\n",
    "list=[]\n",
    "while(a<101):\n",
    "    cube = a**3\n",
    "    print(f\"{a}={cube}\")\n",
    "    if cube%4==0 or cube%5==0:\n",
    "        list.append(a)\n",
    "    a+=1\n",
    "print(list)"
   ]
  },
  {
   "cell_type": "code",
   "execution_count": 29,
   "id": "0c20e4d2-ecea-4db1-b4d6-cc36899df5f8",
   "metadata": {},
   "outputs": [
    {
     "name": "stdout",
     "output_type": "stream",
     "text": [
      "[2, 4, 5, 6, 8, 10, 12, 14, 15, 16, 18, 20, 22, 24, 25, 26, 28, 30, 32, 34, 35, 36, 38, 40, 42, 44, 45, 46, 48, 50, 52, 54, 55, 56, 58, 60, 62, 64, 65, 66, 68, 70, 72, 74, 75, 76, 78, 80, 82, 84, 85, 86, 88, 90, 92, 94, 95, 96, 98, 100]\n"
     ]
    }
   ],
   "source": [
    "#this is ans 4 \n",
    "a=1\n",
    "list=[]\n",
    "while(a<101):\n",
    "    cube = a**3\n",
    "    if cube%4==0 or cube%5==0:\n",
    "        list.append(a)\n",
    "    a+=1\n",
    "print(list)"
   ]
  },
  {
   "cell_type": "code",
   "execution_count": null,
   "id": "58f5e117-6419-47f9-80b5-2cd466ce07ff",
   "metadata": {},
   "outputs": [],
   "source": [
    "Q5. Write a program to filter count vowels in the below-given string.\n",
    "string = \"I want to become a data scientist\""
   ]
  },
  {
   "cell_type": "code",
   "execution_count": 30,
   "id": "8eda220e-fc5c-4ffa-8aa3-a1355a931d5b",
   "metadata": {},
   "outputs": [],
   "source": [
    "string=\"I want to become a data scientist\""
   ]
  },
  {
   "cell_type": "code",
   "execution_count": 31,
   "id": "13ba535a-524c-48c8-b09b-c688c5cbcea0",
   "metadata": {},
   "outputs": [
    {
     "name": "stdout",
     "output_type": "stream",
     "text": [
      "12\n"
     ]
    }
   ],
   "source": [
    "string=\"I want to become a data scientist\"\n",
    "count=0\n",
    "for s1 in string:\n",
    "    list1=['a','e','i','o','u']\n",
    "    if s1.lower() in list1:\n",
    "        count=count+1\n",
    "print(count)"
   ]
  }
 ],
 "metadata": {
  "kernelspec": {
   "display_name": "Python 3 (ipykernel)",
   "language": "python",
   "name": "python3"
  },
  "language_info": {
   "codemirror_mode": {
    "name": "ipython",
    "version": 3
   },
   "file_extension": ".py",
   "mimetype": "text/x-python",
   "name": "python",
   "nbconvert_exporter": "python",
   "pygments_lexer": "ipython3",
   "version": "3.10.8"
  }
 },
 "nbformat": 4,
 "nbformat_minor": 5
}
