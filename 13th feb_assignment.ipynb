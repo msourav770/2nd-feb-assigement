{
 "cells": [
  {
   "cell_type": "markdown",
   "id": "dbf12a23-d9fb-4345-b51c-ee54f66e2637",
   "metadata": {},
   "source": [
    "Q1. Explain why we have to use the Exception class while creating a Custom Exception?\n",
    "ans:-Custom exceptions provide us the flexibility to add attributes and methods that are not part of a standard python exception.Python provides a lot of built-in exception classes that outputs an error when something in your code goes wrong.The error classes can also be used to handle those specific exceptions using try-except blocks."
   ]
  },
  {
   "cell_type": "code",
   "execution_count": null,
   "id": "cf8b89d5-4cd6-468a-b9c4-329593848948",
   "metadata": {},
   "outputs": [],
   "source": [
    "try:\n",
    "    # some code that may raise MyCustomException\n",
    "except MyCustomException as e:\n",
    "    # handle the exception here"
   ]
  },
  {
   "cell_type": "markdown",
   "id": "8b31fe69-fa5b-47cf-8c18-839214e6bbe4",
   "metadata": {},
   "source": [
    "Q2. Write a python program to print Python Exception Hierarchy.\n",
    "ans:-In this code, we start with the BaseException class, which is the base class for all exceptions in Python. We print the name of this class using the __name__ attribute."
   ]
  },
  {
   "cell_type": "code",
   "execution_count": 1,
   "id": "8b78d547-4e12-43bf-8927-02220699f01e",
   "metadata": {},
   "outputs": [
    {
     "name": "stdout",
     "output_type": "stream",
     "text": [
      "BaseException\n",
      "Exception\n"
     ]
    }
   ],
   "source": [
    "def print_exception_hierarchy():\n",
    "    base_exception = BaseException\n",
    "    print(base_exception.__name__)\n",
    "    current_exception = Exception\n",
    "    while current_exception != base_exception:\n",
    "        print(current_exception.__name__)\n",
    "        current_exception = current_exception.__base__\n",
    "\n",
    "print_exception_hierarchy()"
   ]
  },
  {
   "cell_type": "markdown",
   "id": "7270c76c-b418-420d-9811-0ec87af272d3",
   "metadata": {},
   "source": [
    "Q3.What errors are defined in the ArithmeticError class? Explain any two with an example\n",
    "ans:-The ArithmeticError class is a base class for errors that occur during arithmetic operations, such as division by zeroor overflow. Here are two examples of errors that are defined in the ArithmeticError class:\n",
    "\n",
    "a. ZeroDivisionError: This error occurs when we try to divide a number by zero. Here's an example: In this code, we are trying to divide the value of a by the value of b, which is zero This results in a ZeroDivisionError exception being raised. We are catching the exception in the except block and printing the error message.\n",
    "\n",
    "b. OverflowError: This error occurs when we perform an arithmetic operation that results in a value that is too large to be represented by the data type. Here's an example In this code, we are trying to calculate the square of a, which is equal to 10 to the power of 1000. This results in a value that is too large to be represented by the data type, and an OverflowError exception is raised. We are catching the exception in the except block and printing the error message.\n",
    "\n",
    "These are just two examples of errors that are defined in the ArithmeticError class. Other errors in this class include FloatingPointError, FusedMultiplyAdd, RecursionError, and AssertionError, among others."
   ]
  },
  {
   "cell_type": "code",
   "execution_count": 2,
   "id": "73e92c12-3f2b-4278-be5a-ff7d2103b620",
   "metadata": {},
   "outputs": [
    {
     "name": "stdout",
     "output_type": "stream",
     "text": [
      "Error: division by zero\n"
     ]
    }
   ],
   "source": [
    "\"\"\"ZeroDivision Error\"\"\"\n",
    "a = 10\n",
    "b = 0\n",
    "try:\n",
    "    c = a / b\n",
    "except ZeroDivisionError as e:\n",
    "    print(f\"Error: {e}\")\n",
    "\n",
    "\"\"\"OverflowErro\"\"\"\n",
    "a = 10**1000\n",
    "try:\n",
    "    b = a * a\n",
    "except OverflowError as e:\n",
    "    print(f\"Error: {e}\")"
   ]
  },
  {
   "cell_type": "markdown",
   "id": "65afe229-0db3-46d0-b725-c6d163d4713b",
   "metadata": {},
   "source": [
    "Q4. Why LookupError class is used? Explain with an example KeyError and IndexError.\n",
    "ans:-The LookupError class is a base class for errors that occur when a key or index is not found in a mapping or sequence. It is a subclass of the Exception class.\n",
    "\n",
    "Two examples of errors that are defined in the LookupError class are KeyError and IndexError. Here's an explanation of each with an example:\n",
    "\n",
    "a. KeyError: This error occurs when we try to access a dictionary key that does not exist. b. IndexError: This error occurs when we try to access a sequence (e.g. a list, tuple, or string) with an index that is out of range"
   ]
  },
  {
   "cell_type": "code",
   "execution_count": 4,
   "id": "c34c4140-31a9-419f-a5af-8451143c6087",
   "metadata": {},
   "outputs": [
    {
     "name": "stdout",
     "output_type": "stream",
     "text": [
      "Error: 'd'\n",
      "Error: list index out of range\n"
     ]
    }
   ],
   "source": [
    "\"\"\"KeyError\"\"\"\n",
    "my_dict = {'a': 1, 'b': 2, 'c': 3}\n",
    "try:\n",
    "    value = my_dict['d']\n",
    "except KeyError as e:\n",
    "    print(f\"Error: {e}\")\n",
    "\n",
    "\n",
    "\"\"\"IndexError\"\"\"\n",
    "my_list = [1, 2, 3]\n",
    "try:\n",
    "    value = my_list[3]\n",
    "except IndexError as e:\n",
    "    print(f\"Error: {e}\")"
   ]
  },
  {
   "cell_type": "markdown",
   "id": "949982b6-7525-43d6-a7db-162dc85abcec",
   "metadata": {},
   "source": [
    "Q5.Explain ImportError. What is ModuleNotFoundError?\n",
    "Ans:-ImportError is a Python exception that is raised when a module or package cannot be imported. This error can occur for several reasons, such as a missing dependency or a typo in the module name. The ImportError class is a subclass of the Exception class.\n",
    "\n",
    "ModuleNotFoundError is a subclass of ImportError that was introduced in Python 3.6. It is raised when a module or package cannot be found. This error occurs when Python is unable to locate the module in any of the locations specified in the sys.path variable. Prior to Python 3.6, an ImportError exception would be raised instead of ModuleNotFoundError\n",
    "\n",
    "Q6.List down some best practices for exception handling in python.\n",
    "Ans:-Here are some best practices for exception handling in Python:\n",
    "\n",
    "1.Catch the right exceptions: When catching exceptions, it's important to be as specific as possible. Catching a broad exception like Exception can make it difficult to debug issues because it could be caused by any number of things. Instead, catch only the exceptions that you expect to occur in your code.\n",
    "\n",
    "2.Use try-except blocks sparingly: While try-except blocks are a powerful tool for handling exceptions, it's important to use them sparingly. In general, you should only use try-except blocks for code that is likely to raise an exception. Code that is not likely to raise an exception should not be included in a try-except block.\n",
    "\n",
    "3.Use finally blocks to clean up resources: If your code uses resources like files or network connections, it's important to release those resources when you're done with them. Use a finally block to ensure that the resources are released, even if an exception occurs.\n",
    "\n",
    "4.Don't ignore exceptions: It's important to handle exceptions in a meaningful way. Ignoring exceptions and simply printing an error message can make it difficult to diagnose issues. Instead, try to handle the exception in a way that allows the program to recover gracefully.\n",
    "\n",
    "5.Use context managers: Context managers (with statements) are a powerful tool for managing resources like files or network connections. They ensure that resources are properly released when you're done with them, even if an exception occurs.\n",
    "\n",
    "6.Log exceptions: Logging exceptions can be a helpful way to debug issues in production environments. Instead of printing error messages to the console, use a logging library like logging to log exceptions to a file or a remote server.\n",
    "\n",
    "7.Be consistent: When handling exceptions, it's important to be consistent in your approach. Use the same exception handling pattern throughout your codebase to make it easier to understand and maintain."
   ]
  },
  {
   "cell_type": "code",
   "execution_count": null,
   "id": "b2e20f26-eb87-4888-a86e-3fdfc4a900ba",
   "metadata": {},
   "outputs": [],
   "source": []
  }
 ],
 "metadata": {
  "kernelspec": {
   "display_name": "Python 3 (ipykernel)",
   "language": "python",
   "name": "python3"
  },
  "language_info": {
   "codemirror_mode": {
    "name": "ipython",
    "version": 3
   },
   "file_extension": ".py",
   "mimetype": "text/x-python",
   "name": "python",
   "nbconvert_exporter": "python",
   "pygments_lexer": "ipython3",
   "version": "3.10.8"
  }
 },
 "nbformat": 4,
 "nbformat_minor": 5
}
