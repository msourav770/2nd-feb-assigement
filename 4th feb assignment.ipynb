{
 "cells": [
  {
   "cell_type": "code",
   "execution_count": 1,
   "id": "6f879a9f-31db-4654-b23b-51e093b22b48",
   "metadata": {},
   "outputs": [
    {
     "name": "stdout",
     "output_type": "stream",
     "text": [
      "Original list of tuples:\n",
      "[('Sachin Tendulkar', 34357), ('Ricky Ponting', 27483), ('Jack Kallis', 25534), ('Virat Kohli', 24936)]\n",
      "Sorting the List of Tuples:\n",
      "[('Virat Kohli', 24936), ('Jack Kallis', 25534), ('Ricky Ponting', 27483), ('Sachin Tendulkar', 34357)]\n"
     ]
    }
   ],
   "source": [
    "\"\"\"Q1. Create a python program to sort the given list of tuples based on integer value using a\n",
    "lambda function.\n",
    "[('Sachin Tendulkar', 34357), ('Ricky Ponting', 27483), ('Jack Kallis', 25534), ('Virat Kohli', 24936)]\"\"\"\n",
    "list= [('Sachin Tendulkar', 34357), ('Ricky Ponting', 27483), ('Jack Kallis', 25534),\n",
    "           ('Virat Kohli', 24936)]\n",
    "\n",
    "print(\"Original list of tuples:\")\n",
    "print(list)\n",
    "list.sort(key = lambda x: x[1])\n",
    "print(\"Sorting the List of Tuples:\")\n",
    "print(list)"
   ]
  },
  {
   "cell_type": "code",
   "execution_count": null,
   "id": "6e388533-7d5e-41eb-ada2-3e583fb98200",
   "metadata": {},
   "outputs": [],
   "source": []
  },
  {
   "cell_type": "code",
   "execution_count": 1,
   "id": "9e2ceb44-c608-484a-9412-876d935dd6f9",
   "metadata": {},
   "outputs": [
    {
     "data": {
      "text/plain": [
       "[1, 4, 9, 16, 25, 36, 49, 64, 81, 100]"
      ]
     },
     "execution_count": 1,
     "metadata": {},
     "output_type": "execute_result"
    }
   ],
   "source": [
    "\"\"\"Q2. Write a Python Program to find the squares of all the numbers in the given list of integers using\n",
    "lambda and map functions.\n",
    "[1, 2, 3, 4, 5, 6, 7, 8, 9, 10]\"\"\"\n",
    "l=[1,2,3,4,5,6,7,8,9,10]\n",
    "list(map (lambda x: x**2,l))"
   ]
  },
  {
   "cell_type": "code",
   "execution_count": 2,
   "id": "d0dcfaf2-020b-4db3-88b4-8db9f33ea549",
   "metadata": {},
   "outputs": [
    {
     "name": "stdout",
     "output_type": "stream",
     "text": [
      "('1', '2', '3', '4', '5', '6', '7', '8', '9', '10')\n"
     ]
    }
   ],
   "source": [
    "\"\"\"Q3. Write a python program to convert the given list of integers into a tuple of strings. Use map and\n",
    "lambda functions\n",
    "Given String: [1, 2, 3, 4, 5, 6, 7, 8, 9, 10]\n",
    "Expected output: ('1', '2', '3', '4', '5', '6', '7', '8', '9', '10')\"\"\"\n",
    "list = [1, 2, 3, 4, 5, 6, 7, 8, 9, 10]\n",
    "convert_tuple = tuple(map(lambda x : f\"{x}\" , list))\n",
    "print(convert_tuple)"
   ]
  },
  {
   "cell_type": "code",
   "execution_count": 1,
   "id": "16293038-7d37-40a5-8702-50927f4fffdd",
   "metadata": {},
   "outputs": [],
   "source": [
    "import functools"
   ]
  },
  {
   "cell_type": "code",
   "execution_count": 2,
   "id": "f14720c2-912f-47cc-bc6b-f0bcd5744c04",
   "metadata": {},
   "outputs": [
    {
     "name": "stdout",
     "output_type": "stream",
     "text": [
      "15511210043330985984000000\n"
     ]
    }
   ],
   "source": [
    "\"\"\"Q4. Write a python program using reduce function to compute the product of a list containing numbers\n",
    "from 1 to 25.\"\"\"\n",
    "list=[]\n",
    "for i in range(1,26):\n",
    "    list.append(i)\n",
    "list_product=functools.reduce(lambda x, y: x*y, list)\n",
    "print(list_product)"
   ]
  },
  {
   "cell_type": "code",
   "execution_count": 1,
   "id": "9bda25a4-6970-42c5-995a-f57eefbe6b40",
   "metadata": {},
   "outputs": [
    {
     "name": "stdout",
     "output_type": "stream",
     "text": [
      "[6, 60, 90, 120]\n"
     ]
    }
   ],
   "source": [
    "\"\"\"Q5. Write a python program to filter the numbers in a given list that are divisible by 2 and 3 using the\n",
    "filter function.[2, 3, 6, 9, 27, 60, 90, 120, 55, 46]\"\"\"\n",
    "num =[2, 3, 6, 9, 27, 60, 90, 120, 55, 46]\n",
    "new_list = list(filter(lambda x : x%2 ==0 and x%3 ==0, num))\n",
    "print(new_list)"
   ]
  },
  {
   "cell_type": "code",
   "execution_count": 2,
   "id": "710bbf24-930d-4e1a-ace7-d5142278dc8b",
   "metadata": {},
   "outputs": [
    {
     "name": "stdout",
     "output_type": "stream",
     "text": [
      "['php', 'aba', 'radar', 'level']\n"
     ]
    }
   ],
   "source": [
    "\"\"\"Q6. Write a python program to find palindromes in the given list of strings using lambda and filter\n",
    "function.['python', 'php', 'aba', 'radar', 'level']\"\"\"\n",
    "list1 = ['python', 'php', 'aba', 'radar', 'level']\n",
    "palindrome_list = list(filter(lambda word: word == word[::-1], list1))\n",
    "print(palindrome_list)\n"
   ]
  },
  {
   "cell_type": "code",
   "execution_count": null,
   "id": "16324331-83ae-4a96-9c12-a6de23e1b189",
   "metadata": {},
   "outputs": [],
   "source": []
  }
 ],
 "metadata": {
  "kernelspec": {
   "display_name": "Python 3 (ipykernel)",
   "language": "python",
   "name": "python3"
  },
  "language_info": {
   "codemirror_mode": {
    "name": "ipython",
    "version": 3
   },
   "file_extension": ".py",
   "mimetype": "text/x-python",
   "name": "python",
   "nbconvert_exporter": "python",
   "pygments_lexer": "ipython3",
   "version": "3.10.8"
  }
 },
 "nbformat": 4,
 "nbformat_minor": 5
}
